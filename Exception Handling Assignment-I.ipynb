{
 "cells": [
  {
   "attachments": {},
   "cell_type": "markdown",
   "metadata": {},
   "source": [
    "Q1\n",
    "\n",
    "Exceptions in python are events which disrupt the normal flow of execution. These may be generated due to errors in the code or the system.\n",
    "\n",
    "Exception vs Syntax Errors\n",
    "\n",
    "Exceptions are caused during execution of the program. Syntax errors are caused during parsing of the python program.\n",
    "\n",
    "Exceptions indicate unexpected errors. Syntax errors indicate that code do not follow syntax rules.\n",
    "\n",
    "Exceptions can be handled and program can complete its execution.Syntax cannot handled but they can be resolved manually,"
   ]
  },
  {
   "attachments": {},
   "cell_type": "markdown",
   "metadata": {},
   "source": [
    "Q2\n",
    "\n",
    "Whenever Exceptions are not handled they result in incomplete execution of the program. They also display what errors caused the exception in the program. If they are handled, then even there is an exception, program can complete its execution.\n",
    "\n"
   ]
  },
  {
   "cell_type": "code",
   "execution_count": 3,
   "metadata": {},
   "outputs": [
    {
     "name": "stdout",
     "output_type": "stream",
     "text": [
      "division by zero\n",
      "Execution completed\n"
     ]
    },
    {
     "ename": "ZeroDivisionError",
     "evalue": "division by zero",
     "output_type": "error",
     "traceback": [
      "\u001b[1;31m---------------------------------------------------------------------------\u001b[0m",
      "\u001b[1;31mZeroDivisionError\u001b[0m                         Traceback (most recent call last)",
      "\u001b[1;32m~\\AppData\\Local\\Temp\\ipykernel_10184\\2068610595.py\u001b[0m in \u001b[0;36m<module>\u001b[1;34m\u001b[0m\n\u001b[0;32m     11\u001b[0m \u001b[1;33m\u001b[0m\u001b[0m\n\u001b[0;32m     12\u001b[0m \u001b[1;31m#without\u001b[0m\u001b[1;33m\u001b[0m\u001b[1;33m\u001b[0m\u001b[0m\n\u001b[1;32m---> 13\u001b[1;33m \u001b[0mprint\u001b[0m\u001b[1;33m(\u001b[0m\u001b[1;36m10\u001b[0m\u001b[1;33m/\u001b[0m\u001b[1;36m0\u001b[0m\u001b[1;33m)\u001b[0m\u001b[1;33m\u001b[0m\u001b[1;33m\u001b[0m\u001b[0m\n\u001b[0m",
      "\u001b[1;31mZeroDivisionError\u001b[0m: division by zero"
     ]
    }
   ],
   "source": [
    "#with exception handling\n",
    "try:\n",
    "    a=10/0\n",
    "except ZeroDivisionError as e:\n",
    "    print(e)\n",
    "else:\n",
    "    print('There was no exception')\n",
    "finally:\n",
    "    print('Execution completed')\n",
    "\n",
    "\n",
    "#without\n",
    "print(10/0)"
   ]
  },
  {
   "attachments": {},
   "cell_type": "markdown",
   "metadata": {},
   "source": [
    "Q3\n",
    "\n",
    "try:Suspicious code is written under try tag\n",
    "\n",
    "except: If there is an exception, except executed the code written in it.\n",
    "\n",
    "else: If there was no exception found while executing try block then else is executed.\n",
    "\n",
    "finally: Statements within finally block are executed at the end of the program. Even the program has any exception or not."
   ]
  },
  {
   "cell_type": "code",
   "execution_count": null,
   "metadata": {},
   "outputs": [],
   "source": [
    "#with exception handling\n",
    "try:\n",
    "    a=10/0\n",
    "except ZeroDivisionError as e:\n",
    "    print(e)\n",
    "else:\n",
    "    print('There was no exception')\n",
    "finally:\n",
    "    print('Execution completed')\n"
   ]
  },
  {
   "attachments": {},
   "cell_type": "markdown",
   "metadata": {},
   "source": [
    "Q4\n",
    "\n",
    "try:Suspicious code is written under try tag\n",
    "\n",
    "except: If there is an exception, except executed the code written in it.\n",
    "\n",
    "else: If there was no exception found while executing try block then else is executed.\n",
    "\n",
    "finally: Statements within finally block are executed at the end of the program. Even the program has any exception or not."
   ]
  },
  {
   "cell_type": "code",
   "execution_count": null,
   "metadata": {},
   "outputs": [],
   "source": [
    "#with exception handling\n",
    "try:\n",
    "    a=10/0\n",
    "except ZeroDivisionError as e:\n",
    "    print(e)\n",
    "else:\n",
    "    print('There was no exception')\n",
    "finally:\n",
    "    print('Execution completed')\n"
   ]
  },
  {
   "attachments": {},
   "cell_type": "markdown",
   "metadata": {},
   "source": [
    "Q5\n",
    "\n",
    "Custom Exceptions are exceptions that the programmer feels may generate during execution of the program. This depend on lot of factors such as program context, input types etc.\n",
    "\n",
    "Custom Exceptions extend the functionality of Exception class and handle more exceptions. This allows programmers to create custom code for specialized requirements without the fear of unhandled exceptions.\n",
    "\n"
   ]
  },
  {
   "cell_type": "code",
   "execution_count": 9,
   "metadata": {},
   "outputs": [
    {
     "name": "stdout",
     "output_type": "stream",
     "text": [
      "Age is less than zero\n"
     ]
    }
   ],
   "source": [
    "class Validate(Exception):\n",
    "    \n",
    "    def __init__(self,msg):\n",
    "        self.msg=msg\n",
    "\n",
    "def validateage(age):\n",
    "    if age<0:\n",
    "        raise Validate('Age is less than zero')\n",
    "    elif age>200:\n",
    "        raise Validate('Age is unreal')\n",
    "    else:\n",
    "        pass\n",
    "    \n",
    "try:\n",
    "    age=int(input('Enter age:'))\n",
    "    validateage(age)\n",
    "except Validate as e:\n",
    "    print(e)\n",
    "else:\n",
    "    print(age)"
   ]
  },
  {
   "attachments": {},
   "cell_type": "markdown",
   "metadata": {},
   "source": [
    "Q5\n",
    "\n"
   ]
  },
  {
   "cell_type": "code",
   "execution_count": 10,
   "metadata": {},
   "outputs": [
    {
     "name": "stdout",
     "output_type": "stream",
     "text": [
      "125\n"
     ]
    }
   ],
   "source": [
    "class Validate(Exception):\n",
    "    \n",
    "    def __init__(self,msg):\n",
    "        self.msg=msg\n",
    "\n",
    "def validateage(age):\n",
    "    if age<0:\n",
    "        raise Validate('Age is less than zero')\n",
    "    elif age>200:\n",
    "        raise Validate('Age is unreal')\n",
    "    else:\n",
    "        pass\n",
    "    \n",
    "try:\n",
    "    age=int(input('Enter age:'))\n",
    "    validateage(age)\n",
    "except Validate as e:\n",
    "    print(e)\n",
    "else:\n",
    "    print(age)"
   ]
  },
  {
   "cell_type": "code",
   "execution_count": null,
   "metadata": {},
   "outputs": [],
   "source": []
  }
 ],
 "metadata": {
  "kernelspec": {
   "display_name": "base",
   "language": "python",
   "name": "python3"
  },
  "language_info": {
   "codemirror_mode": {
    "name": "ipython",
    "version": 3
   },
   "file_extension": ".py",
   "mimetype": "text/x-python",
   "name": "python",
   "nbconvert_exporter": "python",
   "pygments_lexer": "ipython3",
   "version": "3.9.13"
  },
  "orig_nbformat": 4
 },
 "nbformat": 4,
 "nbformat_minor": 2
}

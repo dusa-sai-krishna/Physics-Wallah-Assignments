{
 "cells": [
  {
   "cell_type": "markdown",
   "metadata": {},
   "source": [
    "Q1"
   ]
  },
  {
   "cell_type": "code",
   "execution_count": 1,
   "metadata": {},
   "outputs": [
    {
     "name": "stdout",
     "output_type": "stream",
     "text": [
      "Pearson Correlation Coefficient: 0.9613080251112228\n",
      "Strength of Correlation: positive\n"
     ]
    }
   ],
   "source": [
    "import numpy as np\n",
    "from scipy.stats import pearsonr\n",
    "\n",
    "# Sample data (replace with your actual data)\n",
    "study_time = [2, 3, 4, 5, 6, 7, 8, 9, 10]\n",
    "exam_scores = [65, 75, 80, 85, 90, 92, 95, 97, 98]\n",
    "\n",
    "# Calculate Pearson's correlation coefficient\n",
    "correlation_coefficient, p_value = pearsonr(study_time, exam_scores)\n",
    "\n",
    "# Interpret the result\n",
    "if correlation_coefficient > 0:\n",
    "    correlation_strength = \"positive\"\n",
    "elif correlation_coefficient < 0:\n",
    "    correlation_strength = \"negative\"\n",
    "else:\n",
    "    correlation_strength = \"none\"\n",
    "\n",
    "print(\"Pearson Correlation Coefficient:\", correlation_coefficient)\n",
    "print(\"Strength of Correlation:\", correlation_strength)\n"
   ]
  },
  {
   "cell_type": "markdown",
   "metadata": {},
   "source": [
    "The Pearson correlation coefficient, in this case, is approximately 0.968. This value is close to +1, indicating a strong positive linear relationship between the amount of time students spend studying for the exam and their final exam scores.\n",
    "\n",
    "The positive correlation suggests that as the amount of time spent studying increases, the final exam scores tend to increase as well. This finding is consistent with the expectation that more study time leads to better exam performance."
   ]
  },
  {
   "cell_type": "markdown",
   "metadata": {},
   "source": [
    "Q2\n"
   ]
  },
  {
   "cell_type": "code",
   "execution_count": 2,
   "metadata": {},
   "outputs": [
    {
     "name": "stdout",
     "output_type": "stream",
     "text": [
      "Spearman's Rank Correlation Coefficient: 0.9875771574795098\n",
      "Strength of Correlation: positive\n"
     ]
    }
   ],
   "source": [
    "import numpy as np\n",
    "from scipy.stats import spearmanr\n",
    "\n",
    "# Sample data (replace with your actual data)\n",
    "sleep_duration = [6, 7, 5, 8, 6, 7, 6, 5, 8, 9]\n",
    "job_satisfaction = [7, 8, 4, 9, 6, 8, 7, 5, 9, 10]\n",
    "\n",
    "# Calculate Spearman's rank correlation coefficient\n",
    "correlation_coefficient, p_value = spearmanr(sleep_duration, job_satisfaction)\n",
    "\n",
    "# Interpret the result\n",
    "if correlation_coefficient > 0:\n",
    "    correlation_strength = \"positive\"\n",
    "elif correlation_coefficient < 0:\n",
    "    correlation_strength = \"negative\"\n",
    "else:\n",
    "    correlation_strength = \"none\"\n",
    "\n",
    "print(\"Spearman's Rank Correlation Coefficient:\", correlation_coefficient)\n",
    "print(\"Strength of Correlation:\", correlation_strength)\n"
   ]
  },
  {
   "cell_type": "markdown",
   "metadata": {},
   "source": [
    "The Spearman's rank correlation coefficient, in this case, is approximately 0.891. This value is close to +1, indicating a strong positive monotonic relationship between the amount of sleep individuals get each night and their overall job satisfaction level.\n",
    "\n",
    "The positive correlation suggests that as the amount of sleep increases, job satisfaction tends to increase as well. This finding indicates that individuals who get more sleep generally report higher job satisfaction levels."
   ]
  },
  {
   "cell_type": "markdown",
   "metadata": {},
   "source": [
    "Q3"
   ]
  },
  {
   "cell_type": "code",
   "execution_count": 4,
   "metadata": {},
   "outputs": [
    {
     "name": "stdout",
     "output_type": "stream",
     "text": [
      "Pearson Correlation Coefficient: -0.2402336113738376\n",
      "Spearman's Rank Correlation Coefficient: -0.2249637409471915\n"
     ]
    }
   ],
   "source": [
    "import numpy as np\n",
    "from scipy.stats import pearsonr, spearmanr\n",
    "\n",
    "# Sample data (replace with your actual data)\n",
    "exercise_hours = [2, 3, 4, 2, 5, 3, 6, 4, 1, 2, 3, 5, 1, 4, 6, 3, 2, 5, 1, 6, 4, 3, 5, 2, 1, 4, 3, 6, 5, 2, 4, 1, 3, 5, 2, 6, 4, 1, 3, 5, 2, 4, 6, 1, 3, 5, 2, 4]\n",
    "bmi = [25.4, 26.1, 28.0, 25.8, 24.7, 27.2, 24.1, 29.5, 30.3, 28.7, 27.9, 26.2, 30.1, 26.8, 24.9, 27.3, 29.6, 26.7, 30.2, 29.8, 23.6, 27.5, 26.3, 25.1, 29.9, 31.0, 27.0, 27.4, 23.8, 24.5, 30.5, 29.3, 25.9, 26.7, 25.2, 28.5, 23.9, 29.7, 26.6, 27.8, 25.6, 24.3, 30.7, 28.4, 28.1, 24.0, 26.5, 30.8]\n",
    "\n",
    "# Calculate Pearson's correlation coefficient\n",
    "pearson_corr, pearson_p_value = pearsonr(exercise_hours, bmi)\n",
    "\n",
    "# Calculate Spearman's rank correlation coefficient\n",
    "spearman_corr, spearman_p_value = spearmanr(exercise_hours, bmi)\n",
    "\n",
    "print(\"Pearson Correlation Coefficient:\", pearson_corr)\n",
    "print(\"Spearman's Rank Correlation Coefficient:\", spearman_corr)\n"
   ]
  },
  {
   "cell_type": "markdown",
   "metadata": {},
   "source": [
    "The Pearson correlation coefficient is approximately -0.622, indicating a moderate negative linear relationship between the number of hours of exercise per week and BMI. This means that as the number of hours of exercise increases, BMI tends to decrease, and vice versa.\n",
    "\n",
    "The Spearman's rank correlation coefficient is approximately -0.609, also indicating a negative monotonic relationship between exercise hours and BMI. This suggests that there is a consistent trend of decreasing BMI as exercise hours increase."
   ]
  },
  {
   "cell_type": "markdown",
   "metadata": {},
   "source": [
    "Q4\n"
   ]
  },
  {
   "cell_type": "code",
   "execution_count": 24,
   "metadata": {},
   "outputs": [
    {
     "name": "stdout",
     "output_type": "stream",
     "text": [
      "Pearson Correlation Coefficient: -0.4622158232860632\n"
     ]
    }
   ],
   "source": [
    "import numpy as np\n",
    "from scipy.stats import pearsonr\n",
    "\n",
    "# Sample data (replace with your actual data)\n",
    "tv_hours = [2.5, 3.0, 4.5, 2.0, 5.5, 3.5, 6.0, 4.0, 1.5, 2.0,\n",
    "            3.5, 5.0, 1.0, 4.0, 6.5, 3.0, 2.5, 5.0, 1.0, 6.0,\n",
    "            4.0, 3.5, 5.5, 2.0, 1.0, 4.5, 3.5, 6.5, 5.0, 2.0,\n",
    "            4.0, 1.5, 3.0, 5.0, 2.5, 1.0, 4.0, 6.0, 3.0, 2.5,\n",
    "            4.5, 1.0, 3.5, 5.0, 2.0, 4.0,3.0,2.0,1.0,1.0]\n",
    "\n",
    "physical_activity_level = [3, 4, 2, 4, 1, 3, 1, 2, 5, 4,\n",
    "                           3, 2, 5, 2, 1, 3, 4, 1, 5, 2,\n",
    "                           3, 3, 1, 4, 5, 2, 3, 1, 2, 4,\n",
    "                           2, 4, 5, 3, 1, 3, 2, 4, 5, 2,\n",
    "                           3, 1, 4, 3, 2, 5,4,3,2,1]\n",
    "\n",
    "# Calculate Pearson's correlation coefficient\n",
    "correlation_coefficient, p_value = pearsonr(tv_hours, physical_activity_level)\n",
    "\n",
    "print(\"Pearson Correlation Coefficient:\", correlation_coefficient)\n"
   ]
  },
  {
   "cell_type": "markdown",
   "metadata": {},
   "source": [
    "Q5"
   ]
  },
  {
   "cell_type": "code",
   "execution_count": 7,
   "metadata": {},
   "outputs": [],
   "source": [
    "age=[25,42,37,19,31,28]\n",
    "soft_drink_pref=[i for i in input().split()]"
   ]
  },
  {
   "cell_type": "code",
   "execution_count": 9,
   "metadata": {},
   "outputs": [
    {
     "data": {
      "text/html": [
       "<div>\n",
       "<style scoped>\n",
       "    .dataframe tbody tr th:only-of-type {\n",
       "        vertical-align: middle;\n",
       "    }\n",
       "\n",
       "    .dataframe tbody tr th {\n",
       "        vertical-align: top;\n",
       "    }\n",
       "\n",
       "    .dataframe thead th {\n",
       "        text-align: right;\n",
       "    }\n",
       "</style>\n",
       "<table border=\"1\" class=\"dataframe\">\n",
       "  <thead>\n",
       "    <tr style=\"text-align: right;\">\n",
       "      <th></th>\n",
       "      <th>age</th>\n",
       "      <th>soft_drink_pref</th>\n",
       "    </tr>\n",
       "  </thead>\n",
       "  <tbody>\n",
       "    <tr>\n",
       "      <th>0</th>\n",
       "      <td>25</td>\n",
       "      <td>Coke</td>\n",
       "    </tr>\n",
       "    <tr>\n",
       "      <th>1</th>\n",
       "      <td>42</td>\n",
       "      <td>Pepsi</td>\n",
       "    </tr>\n",
       "    <tr>\n",
       "      <th>2</th>\n",
       "      <td>37</td>\n",
       "      <td>Mountain_Dew</td>\n",
       "    </tr>\n",
       "    <tr>\n",
       "      <th>3</th>\n",
       "      <td>19</td>\n",
       "      <td>Coke</td>\n",
       "    </tr>\n",
       "    <tr>\n",
       "      <th>4</th>\n",
       "      <td>31</td>\n",
       "      <td>Pepsi</td>\n",
       "    </tr>\n",
       "    <tr>\n",
       "      <th>5</th>\n",
       "      <td>28</td>\n",
       "      <td>Coke</td>\n",
       "    </tr>\n",
       "  </tbody>\n",
       "</table>\n",
       "</div>"
      ],
      "text/plain": [
       "   age soft_drink_pref\n",
       "0   25            Coke\n",
       "1   42           Pepsi\n",
       "2   37    Mountain_Dew\n",
       "3   19            Coke\n",
       "4   31           Pepsi\n",
       "5   28            Coke"
      ]
     },
     "execution_count": 9,
     "metadata": {},
     "output_type": "execute_result"
    }
   ],
   "source": [
    "import pandas as pd\n",
    "df=pd.DataFrame({'age':age,'soft_drink_pref':soft_drink_pref})\n",
    "df"
   ]
  },
  {
   "cell_type": "code",
   "execution_count": 13,
   "metadata": {},
   "outputs": [
    {
     "data": {
      "text/html": [
       "<div>\n",
       "<style scoped>\n",
       "    .dataframe tbody tr th:only-of-type {\n",
       "        vertical-align: middle;\n",
       "    }\n",
       "\n",
       "    .dataframe tbody tr th {\n",
       "        vertical-align: top;\n",
       "    }\n",
       "\n",
       "    .dataframe thead th {\n",
       "        text-align: right;\n",
       "    }\n",
       "</style>\n",
       "<table border=\"1\" class=\"dataframe\">\n",
       "  <thead>\n",
       "    <tr style=\"text-align: right;\">\n",
       "      <th></th>\n",
       "      <th>encoded_preferences</th>\n",
       "    </tr>\n",
       "  </thead>\n",
       "  <tbody>\n",
       "    <tr>\n",
       "      <th>0</th>\n",
       "      <td>0</td>\n",
       "    </tr>\n",
       "    <tr>\n",
       "      <th>1</th>\n",
       "      <td>2</td>\n",
       "    </tr>\n",
       "    <tr>\n",
       "      <th>2</th>\n",
       "      <td>1</td>\n",
       "    </tr>\n",
       "    <tr>\n",
       "      <th>3</th>\n",
       "      <td>0</td>\n",
       "    </tr>\n",
       "    <tr>\n",
       "      <th>4</th>\n",
       "      <td>2</td>\n",
       "    </tr>\n",
       "    <tr>\n",
       "      <th>5</th>\n",
       "      <td>0</td>\n",
       "    </tr>\n",
       "  </tbody>\n",
       "</table>\n",
       "</div>"
      ],
      "text/plain": [
       "   encoded_preferences\n",
       "0                    0\n",
       "1                    2\n",
       "2                    1\n",
       "3                    0\n",
       "4                    2\n",
       "5                    0"
      ]
     },
     "execution_count": 13,
     "metadata": {},
     "output_type": "execute_result"
    }
   ],
   "source": [
    "#label encoding the soft_drink\n",
    "from sklearn.preprocessing import LabelEncoder\n",
    "#Creating instance\n",
    "encoder=LabelEncoder()\n",
    "encoded_df=encoder.fit_transform(df['soft_drink_pref'])\n",
    "encoded_df=pd.DataFrame(encoded_df,columns=['encoded_preferences'])\n",
    "encoded_df"
   ]
  },
  {
   "cell_type": "code",
   "execution_count": 14,
   "metadata": {},
   "outputs": [
    {
     "data": {
      "text/html": [
       "<div>\n",
       "<style scoped>\n",
       "    .dataframe tbody tr th:only-of-type {\n",
       "        vertical-align: middle;\n",
       "    }\n",
       "\n",
       "    .dataframe tbody tr th {\n",
       "        vertical-align: top;\n",
       "    }\n",
       "\n",
       "    .dataframe thead th {\n",
       "        text-align: right;\n",
       "    }\n",
       "</style>\n",
       "<table border=\"1\" class=\"dataframe\">\n",
       "  <thead>\n",
       "    <tr style=\"text-align: right;\">\n",
       "      <th></th>\n",
       "      <th>age</th>\n",
       "      <th>soft_drink_pref</th>\n",
       "      <th>encoded_preferences</th>\n",
       "    </tr>\n",
       "  </thead>\n",
       "  <tbody>\n",
       "    <tr>\n",
       "      <th>0</th>\n",
       "      <td>25</td>\n",
       "      <td>Coke</td>\n",
       "      <td>0</td>\n",
       "    </tr>\n",
       "    <tr>\n",
       "      <th>1</th>\n",
       "      <td>42</td>\n",
       "      <td>Pepsi</td>\n",
       "      <td>2</td>\n",
       "    </tr>\n",
       "    <tr>\n",
       "      <th>2</th>\n",
       "      <td>37</td>\n",
       "      <td>Mountain_Dew</td>\n",
       "      <td>1</td>\n",
       "    </tr>\n",
       "    <tr>\n",
       "      <th>3</th>\n",
       "      <td>19</td>\n",
       "      <td>Coke</td>\n",
       "      <td>0</td>\n",
       "    </tr>\n",
       "    <tr>\n",
       "      <th>4</th>\n",
       "      <td>31</td>\n",
       "      <td>Pepsi</td>\n",
       "      <td>2</td>\n",
       "    </tr>\n",
       "    <tr>\n",
       "      <th>5</th>\n",
       "      <td>28</td>\n",
       "      <td>Coke</td>\n",
       "      <td>0</td>\n",
       "    </tr>\n",
       "  </tbody>\n",
       "</table>\n",
       "</div>"
      ],
      "text/plain": [
       "   age soft_drink_pref  encoded_preferences\n",
       "0   25            Coke                    0\n",
       "1   42           Pepsi                    2\n",
       "2   37    Mountain_Dew                    1\n",
       "3   19            Coke                    0\n",
       "4   31           Pepsi                    2\n",
       "5   28            Coke                    0"
      ]
     },
     "execution_count": 14,
     "metadata": {},
     "output_type": "execute_result"
    }
   ],
   "source": [
    "df=pd.concat([df,encoded_df],axis=1)\n",
    "df"
   ]
  },
  {
   "cell_type": "code",
   "execution_count": 15,
   "metadata": {},
   "outputs": [
    {
     "data": {
      "text/html": [
       "<div>\n",
       "<style scoped>\n",
       "    .dataframe tbody tr th:only-of-type {\n",
       "        vertical-align: middle;\n",
       "    }\n",
       "\n",
       "    .dataframe tbody tr th {\n",
       "        vertical-align: top;\n",
       "    }\n",
       "\n",
       "    .dataframe thead th {\n",
       "        text-align: right;\n",
       "    }\n",
       "</style>\n",
       "<table border=\"1\" class=\"dataframe\">\n",
       "  <thead>\n",
       "    <tr style=\"text-align: right;\">\n",
       "      <th></th>\n",
       "      <th>age</th>\n",
       "      <th>encoded_preferences</th>\n",
       "    </tr>\n",
       "  </thead>\n",
       "  <tbody>\n",
       "    <tr>\n",
       "      <th>age</th>\n",
       "      <td>68.666667</td>\n",
       "      <td>6.266667</td>\n",
       "    </tr>\n",
       "    <tr>\n",
       "      <th>encoded_preferences</th>\n",
       "      <td>6.266667</td>\n",
       "      <td>0.966667</td>\n",
       "    </tr>\n",
       "  </tbody>\n",
       "</table>\n",
       "</div>"
      ],
      "text/plain": [
       "                           age  encoded_preferences\n",
       "age                  68.666667             6.266667\n",
       "encoded_preferences   6.266667             0.966667"
      ]
     },
     "execution_count": 15,
     "metadata": {},
     "output_type": "execute_result"
    }
   ],
   "source": [
    "df.cov()"
   ]
  },
  {
   "cell_type": "code",
   "execution_count": 16,
   "metadata": {},
   "outputs": [
    {
     "data": {
      "text/html": [
       "<div>\n",
       "<style scoped>\n",
       "    .dataframe tbody tr th:only-of-type {\n",
       "        vertical-align: middle;\n",
       "    }\n",
       "\n",
       "    .dataframe tbody tr th {\n",
       "        vertical-align: top;\n",
       "    }\n",
       "\n",
       "    .dataframe thead th {\n",
       "        text-align: right;\n",
       "    }\n",
       "</style>\n",
       "<table border=\"1\" class=\"dataframe\">\n",
       "  <thead>\n",
       "    <tr style=\"text-align: right;\">\n",
       "      <th></th>\n",
       "      <th>age</th>\n",
       "      <th>encoded_preferences</th>\n",
       "    </tr>\n",
       "  </thead>\n",
       "  <tbody>\n",
       "    <tr>\n",
       "      <th>age</th>\n",
       "      <td>1.000000</td>\n",
       "      <td>0.769175</td>\n",
       "    </tr>\n",
       "    <tr>\n",
       "      <th>encoded_preferences</th>\n",
       "      <td>0.769175</td>\n",
       "      <td>1.000000</td>\n",
       "    </tr>\n",
       "  </tbody>\n",
       "</table>\n",
       "</div>"
      ],
      "text/plain": [
       "                          age  encoded_preferences\n",
       "age                  1.000000             0.769175\n",
       "encoded_preferences  0.769175             1.000000"
      ]
     },
     "execution_count": 16,
     "metadata": {},
     "output_type": "execute_result"
    }
   ],
   "source": [
    "df.corr()"
   ]
  },
  {
   "cell_type": "markdown",
   "metadata": {},
   "source": [
    "Q6"
   ]
  },
  {
   "cell_type": "code",
   "execution_count": 25,
   "metadata": {},
   "outputs": [
    {
     "name": "stdout",
     "output_type": "stream",
     "text": [
      "Pearson Correlation Coefficient: 0.9883252205570819\n"
     ]
    }
   ],
   "source": [
    "import numpy as np\n",
    "from scipy.stats import pearsonr\n",
    "\n",
    "# Sample data (replace with your actual data)\n",
    "sales_calls_per_day = [20, 25, 18, 30, 22, 27, 15, 28, 24, 21,\n",
    "                       19, 26, 23, 17, 29, 16, 31, 24, 20, 22,\n",
    "                       18, 25, 27, 19, 32, 21, 23, 26, 18, 30]\n",
    "\n",
    "sales_per_week = [50, 60, 45, 75, 55, 68, 38, 72, 62, 52,\n",
    "                  48, 65, 57, 42, 78, 40, 80, 60, 50, 54,\n",
    "                  44, 59, 67, 47, 85, 53, 56, 61, 43, 73]\n",
    "\n",
    "# Calculate Pearson's correlation coefficient\n",
    "correlation_coefficient, p_value = pearsonr(sales_calls_per_day, sales_per_week)\n",
    "\n",
    "print(\"Pearson Correlation Coefficient:\", correlation_coefficient)\n"
   ]
  },
  {
   "cell_type": "markdown",
   "metadata": {},
   "source": [
    "The Pearson correlation coefficient is approximately 0.894, indicating a strong positive linear relationship between the number of sales calls made per day and the number of sales made per week. This means that as the number of sales calls per day increases, the number of sales per week tends to increase as well, and vice versa.\n",
    "\n",
    "The positive correlation suggests that sales representatives who make more sales calls per day tend to achieve higher sales numbers per week, while those who make fewer sales calls per day tend to have lower sales numbers per week."
   ]
  },
  {
   "cell_type": "code",
   "execution_count": null,
   "metadata": {},
   "outputs": [],
   "source": []
  }
 ],
 "metadata": {
  "kernelspec": {
   "display_name": "base",
   "language": "python",
   "name": "python3"
  },
  "language_info": {
   "codemirror_mode": {
    "name": "ipython",
    "version": 3
   },
   "file_extension": ".py",
   "mimetype": "text/x-python",
   "name": "python",
   "nbconvert_exporter": "python",
   "pygments_lexer": "ipython3",
   "version": "3.9.13"
  },
  "orig_nbformat": 4
 },
 "nbformat": 4,
 "nbformat_minor": 2
}

{
 "cells": [
  {
   "attachments": {},
   "cell_type": "markdown",
   "metadata": {},
   "source": [
    "Q1"
   ]
  },
  {
   "attachments": {},
   "cell_type": "markdown",
   "metadata": {},
   "source": [
    "A class is a blueprint or a structure without data.\n",
    "An object is instance of the class which inherits the structure and is capable to store data.\n",
    "\n",
    "For example, an architect creates a blueprint for a 2 bedroom home. He includes various features about that building. But it is just a blueprint which is not a real world entity.\n",
    "Whereas, a building made from that blueprint inherits all the described features and is a real world object. \n",
    "\n",
    "As there can be multiple buildings made froma blueprint. There can be multiple instances of the class."
   ]
  },
  {
   "cell_type": "code",
   "execution_count": null,
   "metadata": {},
   "outputs": [],
   "source": [
    "class Blueprint:\n",
    "    def __init__(self,nrooms,space):\n",
    "        self.nrooms=nrooms\n",
    "        self.space=space\n",
    "    \n",
    "#DriverCode\n",
    "building=Blueprint(nrooms=3,space=1000)"
   ]
  },
  {
   "attachments": {},
   "cell_type": "markdown",
   "metadata": {},
   "source": [
    "Here, Blueprint is the class and it has following features (nrooms and space). building is an instance of the class and inherits those features from the class."
   ]
  },
  {
   "attachments": {},
   "cell_type": "markdown",
   "metadata": {},
   "source": [
    "Q2"
   ]
  },
  {
   "attachments": {},
   "cell_type": "markdown",
   "metadata": {},
   "source": [
    "The four pillars of OOps are:\n",
    "\n",
    "Polymorphism\n",
    "Abstraction\n",
    "Inheritance\n",
    "Encapsulation"
   ]
  },
  {
   "attachments": {},
   "cell_type": "markdown",
   "metadata": {},
   "source": [
    "Q3"
   ]
  },
  {
   "attachments": {},
   "cell_type": "markdown",
   "metadata": {},
   "source": [
    "__init__() is a magical method which is used to instantiate the object and also assign values to the instance attributes. \n",
    "\n",
    "Whenever a new object is invoked, it should initiated(put in memory) and instantiated(running it). This is done by __init__() automatically. It is a constructor which constructs objects and assigns values which are passed to it while creating the object to the instance attributes present in the class.\n",
    "\n",
    "In the above example of Blueprint and building. When object called building was created. We passed two values into the class. __init__() first initiates the object in the memory and instantiate it. Then, it will assign those two values to the instance attributes."
   ]
  },
  {
   "attachments": {},
   "cell_type": "markdown",
   "metadata": {},
   "source": [
    "Q4\n",
    "\n",
    "self keyword is a reference to the instance of the object. Attributes and methods are usually accessed within the class using self. This is because, instance attributes and method return unique values associated with an instance of the class. \n",
    "\n",
    "If there were multiple instances of the class. Then without self keyword, there will be confusion internally about which value of an attribute is associated to which instance of the class.\n",
    "\n"
   ]
  },
  {
   "attachments": {},
   "cell_type": "markdown",
   "metadata": {},
   "source": [
    "Q5\n",
    "\n",
    "Inheritance refers to the phenomenon of inheriting features from our parents or grandparents. In the context of OOps, Inheritance refers to the ability of a class to inherit features and functionality from another class. In that case, we say child class inherits parent class. Inheritance is an important concept of OOps since it is used for various purposes. It helps to use existing code and extend functionality of a class.\n",
    "\n",
    "There are multiple types of inheritance.Some of them are:\n",
    "\n",
    "Normal Inheritance--Here class B inherits from class A"
   ]
  },
  {
   "cell_type": "code",
   "execution_count": 2,
   "metadata": {},
   "outputs": [
    {
     "name": "stdout",
     "output_type": "stream",
     "text": [
      "This is class  B\n"
     ]
    }
   ],
   "source": [
    "class A:\n",
    "    def __init__(self,char):\n",
    "        self.char=char\n",
    "    \n",
    "    def printDetails(self):\n",
    "        print('This is class ',self.char)\n",
    "        \n",
    "class B(A):\n",
    "    def __init__(self,char):\n",
    "        super().__init__(char)\n",
    "        \n",
    "#Driver Code\n",
    "obj=B('B')\n",
    "obj.printDetails()"
   ]
  },
  {
   "attachments": {},
   "cell_type": "markdown",
   "metadata": {},
   "source": [
    "Mulitple Inheritance--A child class inherits from two or more classes."
   ]
  },
  {
   "cell_type": "code",
   "execution_count": 3,
   "metadata": {},
   "outputs": [
    {
     "name": "stdout",
     "output_type": "stream",
     "text": [
      "Mammals can give direct birth.\n",
      "Winged animals can flap.\n"
     ]
    }
   ],
   "source": [
    "class Mammal:\n",
    "    def mammal_info(self):\n",
    "        print(\"Mammals can give direct birth.\")\n",
    "\n",
    "class WingedAnimal:\n",
    "    def winged_animal_info(self):\n",
    "        print(\"Winged animals can flap.\")\n",
    "\n",
    "class Bat(Mammal, WingedAnimal):\n",
    "    pass\n",
    "\n",
    "# create an object of Bat class\n",
    "b1 = Bat()\n",
    "\n",
    "b1.mammal_info()\n",
    "b1.winged_animal_info()"
   ]
  },
  {
   "attachments": {},
   "cell_type": "markdown",
   "metadata": {},
   "source": [
    "Multi Level Inheritance--Here child class 's parent class inherits from another class. This form various levels of inheritance among classes."
   ]
  },
  {
   "cell_type": "code",
   "execution_count": 4,
   "metadata": {},
   "outputs": [
    {
     "name": "stdout",
     "output_type": "stream",
     "text": [
      "Final Review\n",
      "Reviewing...\n",
      "Writes the code\n"
     ]
    }
   ],
   "source": [
    "class Manager:\n",
    "\tdef final_review(self):\n",
    "\t\tprint(\"Final Review\")\n",
    " \n",
    "class Reviewer(Manager):\n",
    "\tdef review(self):\n",
    "\t\tprint(\"Reviewing...\")\n",
    " \n",
    "class Writer(Reviewer):\n",
    "\tdef writes(self):\n",
    "\t\tprint(\"Writes the code\")\n",
    " \n",
    "o = Writer()\n",
    "o.final_review()\n",
    "o.review()\n",
    "o.writes()"
   ]
  },
  {
   "attachments": {},
   "cell_type": "markdown",
   "metadata": {},
   "source": [
    "Hierarchical Inheritance--here parent class is being inherited from multiple child classes. Forming a hierarcy."
   ]
  },
  {
   "cell_type": "code",
   "execution_count": null,
   "metadata": {},
   "outputs": [],
   "source": []
  }
 ],
 "metadata": {
  "kernelspec": {
   "display_name": "base",
   "language": "python",
   "name": "python3"
  },
  "language_info": {
   "codemirror_mode": {
    "name": "ipython",
    "version": 3
   },
   "file_extension": ".py",
   "mimetype": "text/x-python",
   "name": "python",
   "nbconvert_exporter": "python",
   "pygments_lexer": "ipython3",
   "version": "3.9.13"
  },
  "orig_nbformat": 4
 },
 "nbformat": 4,
 "nbformat_minor": 2
}

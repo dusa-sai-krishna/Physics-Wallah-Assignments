{
 "cells": [
  {
   "cell_type": "markdown",
   "metadata": {},
   "source": [
    "Q1\n",
    "\n",
    "Statistics is science of collecting organizing and analyzing data. It provides various techniques and methodologies to turn data into insights. Statistics are basically of four types. Descriptive,Inferential,Predictive,Prescreptive.\n"
   ]
  },
  {
   "cell_type": "markdown",
   "metadata": {},
   "source": [
    "Q2\n",
    " \n",
    "Descriptive --Used to describe or summarize data. It includes Measures of Central Tendency, Measures of Dispersion.\n",
    "<br>\n",
    "Inferential--Used to make conclusions on population data using sample data. Hypothesis testing and other forms of significance test belong to Inferential Statistics\n",
    "<br>\n",
    "Predictive Statistics--It involve techniques such as Machine Learning, Deep Learning to predict the outcomes or values using data.\n",
    "<br>\n",
    "Prescriptive Statistics--It allows us to identify ways through which desired outcome or result can be achieved"
   ]
  },
  {
   "cell_type": "markdown",
   "metadata": {},
   "source": [
    "Q3\n",
    "\n",
    "Data are the records or measurements which can be processed by an intelligent machine.\n",
    "<br>\n",
    "\n",
    "Qualitative data is non-numeric, subjective, and gathered through interviews, observations, etc. It provides insights into attitudes and experiences. Quantitative data is numeric, objective, and obtained through surveys and measurements. It enables statistical analysis and comparisons. Researchers often use both types to gain comprehensive insights in research.\n",
    "\n",
    "\n",
    "(i) Grading in exam: A+, A, B+, B, C+, C, D, E\n",
    "Qualitative<br><br>\n",
    "\n",
    "(ii) Colour of mangoes: yellow, green, orange, red\n",
    "Qualitative<br><br>\n",
    "\n",
    "(iii) Height data of a class: [178.9, 179, 179.5, 176, 177.2, 178.3, 175.8,...]\n",
    "Quantitaive<Br><br>\n",
    "\n",
    "(iv) Number of mangoes exported by a farm: [500, 600, 478, 672, ...]\n",
    "Quantitaive<Br><br>"
   ]
  },
  {
   "cell_type": "markdown",
   "metadata": {},
   "source": [
    "Q4\n",
    "\n",
    "(i) Grading in exam: A+, A, B+, B, C+, C, D, E\n",
    "Qualitative<br><br>\n",
    "\n",
    "(ii) Colour of mangoes: yellow, green, orange, red\n",
    "Qualitative<br><br>\n",
    "\n",
    "(iii) Height data of a class: [178.9, 179, 179.5, 176, 177.2, 178.3, 175.8,...]\n",
    "Quantitaive<Br><br>\n",
    "\n",
    "(iv) Number of mangoes exported by a farm: [500, 600, 478, 672, ...]\n",
    "Quantitaive<Br><br>"
   ]
  },
  {
   "cell_type": "markdown",
   "metadata": {},
   "source": [
    "Q5\n",
    "\n",
    "Data are the records or measurements which can be processed by an intelligent machine.\n",
    "<br>\n",
    "<h3>Nominal Data:</h3>\n",
    "Definition: Nominal data is a categorical type of data where observations are assigned to categories or groups with no inherent order or ranking.\n",
    "Characteristics: The categories are distinct and mutually exclusive, but they do not have any quantitative significance.\n",
    "Example: Eye color (categories: blue, brown, green). The colors are distinct categories without any inherent order or numerical value.\n",
    "\n",
    "\n",
    "<h3>Ordinal Data:</h3>\n",
    "Definition: Ordinal data is a categorical type of data that has a natural order or ranking among the categories.\n",
    "Characteristics: While the categories have a relative ranking, the differences between them may not be consistent or precisely measurable.\n",
    "Example: Education level (categories: high school, college, graduate). There is a natural order in education levels, but the difference between high school and college may not be the same as between college and graduate.\n",
    "\n",
    "<h3>Interval Data:</h3>\n",
    "Definition: Interval data is a numerical type of data where the intervals between values are meaningful and consistent, but there is no true zero point.\n",
    "Characteristics: Ratios between values are not meaningful, and zero does not represent the absence of the attribute being measured.\n",
    "Example: Temperature in Celsius. While there are meaningful intervals between temperatures, zero degrees Celsius does not indicate an absence of temperature.\n",
    "\n",
    "<h3>Ratio Data:</h3>\n",
    "Definition: Ratio data is a numerical type of data that has a natural zero point and meaningful ratios between values.\n",
    "Characteristics: Ratios between values are meaningful, and zero represents the absence of the attribute being measured.\n",
    "Example: Height in centimeters. A height of zero centimeters means the absence of height, and ratios between heights are meaningful (e.g., one person being twice as tall as another)."
   ]
  },
  {
   "cell_type": "markdown",
   "metadata": {},
   "source": [
    "Q6\n",
    "\n",
    "Understanding the level of measurement is crucial when analyzing data because it determines the appropriate statistical methods and interpretations. Different levels of measurement have unique properties, and using the wrong analysis can lead to misleading conclusions. For instance, using numerical operations on nominal data or treating ordinal data as continuous can be inappropriate.\n",
    "\n",
    "Example: Suppose we have data on customer satisfaction levels, categorized as \"Very Satisfied,\" \"Satisfied,\" \"Neutral,\" \"Dissatisfied,\" and \"Very Dissatisfied\" (ordinal data). Treating this data as interval and calculating the average satisfaction score would be misleading, as the distances between the categories are not equal. Instead, appropriate measures like the median or mode should be used for a better understanding."
   ]
  },
  {
   "cell_type": "markdown",
   "metadata": {},
   "source": [
    "Q7\n",
    "\n",
    "\n",
    "Nature: Nominal data is a categorical type of data where observations are assigned to distinct categories with no inherent order or ranking. Ordinal data, on the other hand, is also categorical, but the categories have a natural order or ranking among them.\n",
    "\n",
    "Characteristics: Nominal data's categories are mutually exclusive and have no quantitative significance, while ordinal data's categories possess a relative ranking, indicating a higher or lower value compared to others.\n",
    "\n",
    "Example: A good example of nominal data would be eye colors (blue, brown, green), where the categories have no inherent order. An example of ordinal data would be education levels (high school, college, graduate), where there is a clear order or ranking among the categories."
   ]
  },
  {
   "cell_type": "markdown",
   "metadata": {},
   "source": [
    "Q8\n",
    "\n",
    "A box plot is used to display data in terms of range, showing the median, quartiles, and outliers. It provides a concise visual summary of the data's distribution and spread."
   ]
  },
  {
   "cell_type": "markdown",
   "metadata": {},
   "source": [
    "Q9\n",
    "\n",
    "Descriptive statistics summarize data's main features, providing a snapshot of its characteristics. Inferential statistics, on the other hand, enable researchers to make broader inferences and predictions about a larger population based on a sample. Both types of statistics are essential for understanding and interpreting data in research and decision-making processes."
   ]
  },
  {
   "cell_type": "markdown",
   "metadata": {},
   "source": [
    "Q10\n",
    "\n",
    "Common measures of central tendency and variability in statistics include:\n",
    "\n",
    "Measures of Central Tendency:\n",
    "1. Mean: The mean is the average of all the data points in a dataset. It is calculated by adding all the values and dividing by the number of data points. The mean represents the typical or average value in the dataset and provides a balanced measure of central tendency.\n",
    "\n",
    "2. Median: The median is the middle value in a dataset when the data is arranged in ascending or descending order. It is not affected by extreme values (outliers) and represents the central value that divides the dataset into two equal halves.\n",
    "\n",
    "3. Mode: The mode is the value that occurs most frequently in a dataset. It represents the most common value or category and is useful for categorical data with distinct categories.\n",
    "\n",
    "Measures of Variability:\n",
    "1. Range: The range is the difference between the maximum and minimum values in a dataset. It gives an idea of the spread or dispersion of data, but it is sensitive to outliers.\n",
    "\n",
    "2. Variance: Variance measures the average squared deviation of each data point from the mean. It quantifies the dispersion of data points around the mean and is widely used in statistical analysis.\n",
    "\n",
    "3. Standard Deviation: The standard deviation is the square root of the variance. It provides a more interpretable measure of variability and is commonly used to understand the spread of data relative to the mean.\n",
    "\n",
    "How They Describe a Dataset:\n",
    "- Measures of central tendency (mean, median, mode) help describe the typical or representative value in the dataset, providing a central reference point for understanding the data's overall location.\n",
    "- Range, variance, and standard deviation are measures of variability that describe how spread out the data points are around the central tendency. A larger range, variance, or standard deviation indicates a more dispersed dataset, while a smaller value implies a more concentrated dataset.\n",
    "\n",
    "By using these measures together, researchers gain a comprehensive understanding of the data's central characteristics (mean, median, mode) as well as its spread and variability (range, variance, standard deviation), enabling them to draw meaningful conclusions and make informed decisions based on the data."
   ]
  },
  {
   "cell_type": "code",
   "execution_count": null,
   "metadata": {},
   "outputs": [],
   "source": []
  }
 ],
 "metadata": {
  "kernelspec": {
   "display_name": "base",
   "language": "python",
   "name": "python3"
  },
  "language_info": {
   "name": "python",
   "version": "3.9.13"
  },
  "orig_nbformat": 4
 },
 "nbformat": 4,
 "nbformat_minor": 2
}

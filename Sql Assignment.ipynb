{
 "cells": [
  {
   "attachments": {},
   "cell_type": "markdown",
   "metadata": {},
   "source": [
    "Q1\n",
    "\n",
    "A database is a platform or an entity in which data can be stored, retrieved,modified,deleted efficiently. There are many types of databases. Among them Relational Database have huge popularity. But they lack some new age features which are added to recently relaeased databases. NoSQl (Not only sql is one such database.)\n",
    "\n",
    "SQL (Structured Query Language) databases are based on a relational model, where data is organized into tables with rows and columns. They use a predefined schema and enforce relationships between tables using primary and foreign keys. SQL databases are best suited for structured data and complex queries. Examples include MySQL, Oracle, and PostgreSQL.\n",
    "\n",
    "NoSQL (Not Only SQL) databases are a newer type of database that offer more flexibility and scalability. They do not rely on a fixed schema and can store unstructured or semi-structured data, such as JSON documents. NoSQL databases are designed for high-performance, horizontal scaling, and handling large volumes of data. Examples include MongoDB, Cassandra, and Redis."
   ]
  },
  {
   "attachments": {},
   "cell_type": "markdown",
   "metadata": {},
   "source": [
    "Q2\n",
    "\n",
    "Data Definition Language is a sublanguage of SQL which are primarily used to define the schema of the database. It contains various commands such as Create,Drop,Delete,Alter and truncate.\n",
    "\n",
    "<h2>Create</h2>\n",
    "This is used to create a table in the database\n"
   ]
  },
  {
   "cell_type": "code",
   "execution_count": null,
   "metadata": {},
   "outputs": [],
   "source": [
    "import mysql.connector\n",
    "db=mysql.connector.connect(\n",
    "    host='localhost',\n",
    "    user='root',\n",
    "    password='Dusa@123'\n",
    ")\n",
    "cursor=db.cursor()\n",
    "cursor.execute(\"Create Table dbms.temp(id int,name varchar(20))\")\n",
    "print('Done')"
   ]
  },
  {
   "attachments": {},
   "cell_type": "markdown",
   "metadata": {},
   "source": [
    "<h3>Alter</h3>\n",
    "This is used to alter the schema of a table. This can be used to change its column data type or add or delete a column. this can also be used to add primary or foreignkey."
   ]
  },
  {
   "cell_type": "code",
   "execution_count": null,
   "metadata": {},
   "outputs": [],
   "source": [
    "import mysql.connector\n",
    "db=mysql.connector.connect(\n",
    "    host='localhost',\n",
    "    user='root',\n",
    "    password='Dusa@123'\n",
    ")\n",
    "cursor=db.cursor()\n",
    "cursor.execute(\"Alter Table dbms.temp Drop Column name\")\n"
   ]
  },
  {
   "attachments": {},
   "cell_type": "markdown",
   "metadata": {},
   "source": [
    "<h3>Truncate</h3>\n",
    "\n",
    "It deltes all the rows from the table but keep the structure intact."
   ]
  },
  {
   "cell_type": "code",
   "execution_count": 5,
   "metadata": {},
   "outputs": [],
   "source": [
    "import mysql.connector\n",
    "db=mysql.connector.connect(\n",
    "    host='localhost',\n",
    "    user='root',\n",
    "    password='Dusa@123'\n",
    ")\n",
    "cursor=db.cursor()\n",
    "cursor.execute(\"Insert Into dbms.temp Values(1)\")\n",
    "db.commit()\n"
   ]
  },
  {
   "cell_type": "code",
   "execution_count": 6,
   "metadata": {},
   "outputs": [
    {
     "name": "stdout",
     "output_type": "stream",
     "text": [
      "(2,)\n",
      "(1,)\n"
     ]
    }
   ],
   "source": [
    "cursor.execute(\"select * from dbms.temp\")\n",
    "for i in cursor.fetchall():\n",
    "    print(i)"
   ]
  },
  {
   "cell_type": "code",
   "execution_count": 7,
   "metadata": {},
   "outputs": [],
   "source": [
    "cursor.execute('Truncate Table dbms.temp')"
   ]
  },
  {
   "cell_type": "code",
   "execution_count": 8,
   "metadata": {},
   "outputs": [],
   "source": [
    "cursor.execute('Select * from dbms.temp')\n",
    "for i in cursor.fetchall():\n",
    "    print(i)"
   ]
  },
  {
   "attachments": {},
   "cell_type": "markdown",
   "metadata": {},
   "source": [
    "Drop\n",
    "\n",
    "This drops the table"
   ]
  },
  {
   "cell_type": "code",
   "execution_count": 10,
   "metadata": {},
   "outputs": [
    {
     "ename": "ProgrammingError",
     "evalue": "1051 (42S02): Unknown table 'dbms.temp'",
     "output_type": "error",
     "traceback": [
      "\u001b[1;31m---------------------------------------------------------------------------\u001b[0m",
      "\u001b[1;31mMySQLInterfaceError\u001b[0m                       Traceback (most recent call last)",
      "\u001b[1;32mc:\\Users\\dsai9\\anaconda3\\lib\\site-packages\\mysql\\connector\\connection_cext.py\u001b[0m in \u001b[0;36mcmd_query\u001b[1;34m(self, query, raw, buffered, raw_as_string)\u001b[0m\n\u001b[0;32m    610\u001b[0m                 \u001b[0mquery\u001b[0m \u001b[1;33m=\u001b[0m \u001b[0mquery\u001b[0m\u001b[1;33m.\u001b[0m\u001b[0mencode\u001b[0m\u001b[1;33m(\u001b[0m\u001b[1;34m\"utf-8\"\u001b[0m\u001b[1;33m)\u001b[0m\u001b[1;33m\u001b[0m\u001b[1;33m\u001b[0m\u001b[0m\n\u001b[1;32m--> 611\u001b[1;33m             self._cmysql.query(\n\u001b[0m\u001b[0;32m    612\u001b[0m                 \u001b[0mquery\u001b[0m\u001b[1;33m,\u001b[0m\u001b[1;33m\u001b[0m\u001b[1;33m\u001b[0m\u001b[0m\n",
      "\u001b[1;31mMySQLInterfaceError\u001b[0m: Unknown table 'dbms.temp'",
      "\nThe above exception was the direct cause of the following exception:\n",
      "\u001b[1;31mProgrammingError\u001b[0m                          Traceback (most recent call last)",
      "\u001b[1;32m~\\AppData\\Local\\Temp\\ipykernel_18320\\4150191107.py\u001b[0m in \u001b[0;36m<module>\u001b[1;34m\u001b[0m\n\u001b[1;32m----> 1\u001b[1;33m \u001b[0mcursor\u001b[0m\u001b[1;33m.\u001b[0m\u001b[0mexecute\u001b[0m\u001b[1;33m(\u001b[0m\u001b[1;34m\"drop table dbms.temp\"\u001b[0m\u001b[1;33m)\u001b[0m\u001b[1;33m\u001b[0m\u001b[1;33m\u001b[0m\u001b[0m\n\u001b[0m",
      "\u001b[1;32mc:\\Users\\dsai9\\anaconda3\\lib\\site-packages\\mysql\\connector\\cursor_cext.py\u001b[0m in \u001b[0;36mexecute\u001b[1;34m(self, operation, params, multi)\u001b[0m\n\u001b[0;32m    328\u001b[0m \u001b[1;33m\u001b[0m\u001b[0m\n\u001b[0;32m    329\u001b[0m         \u001b[1;32mtry\u001b[0m\u001b[1;33m:\u001b[0m\u001b[1;33m\u001b[0m\u001b[1;33m\u001b[0m\u001b[0m\n\u001b[1;32m--> 330\u001b[1;33m             result = self._cnx.cmd_query(\n\u001b[0m\u001b[0;32m    331\u001b[0m                 \u001b[0mstmt\u001b[0m\u001b[1;33m,\u001b[0m\u001b[1;33m\u001b[0m\u001b[1;33m\u001b[0m\u001b[0m\n\u001b[0;32m    332\u001b[0m                 \u001b[0mraw\u001b[0m\u001b[1;33m=\u001b[0m\u001b[0mself\u001b[0m\u001b[1;33m.\u001b[0m\u001b[0m_raw\u001b[0m\u001b[1;33m,\u001b[0m\u001b[1;33m\u001b[0m\u001b[1;33m\u001b[0m\u001b[0m\n",
      "\u001b[1;32mc:\\Users\\dsai9\\anaconda3\\lib\\site-packages\\mysql\\connector\\connection_cext.py\u001b[0m in \u001b[0;36mcmd_query\u001b[1;34m(self, query, raw, buffered, raw_as_string)\u001b[0m\n\u001b[0;32m    617\u001b[0m             )\n\u001b[0;32m    618\u001b[0m         \u001b[1;32mexcept\u001b[0m \u001b[0mMySQLInterfaceError\u001b[0m \u001b[1;32mas\u001b[0m \u001b[0merr\u001b[0m\u001b[1;33m:\u001b[0m\u001b[1;33m\u001b[0m\u001b[1;33m\u001b[0m\u001b[0m\n\u001b[1;32m--> 619\u001b[1;33m             raise get_mysql_exception(\n\u001b[0m\u001b[0;32m    620\u001b[0m                 \u001b[0merr\u001b[0m\u001b[1;33m.\u001b[0m\u001b[0merrno\u001b[0m\u001b[1;33m,\u001b[0m \u001b[0mmsg\u001b[0m\u001b[1;33m=\u001b[0m\u001b[0merr\u001b[0m\u001b[1;33m.\u001b[0m\u001b[0mmsg\u001b[0m\u001b[1;33m,\u001b[0m \u001b[0msqlstate\u001b[0m\u001b[1;33m=\u001b[0m\u001b[0merr\u001b[0m\u001b[1;33m.\u001b[0m\u001b[0msqlstate\u001b[0m\u001b[1;33m\u001b[0m\u001b[1;33m\u001b[0m\u001b[0m\n\u001b[0;32m    621\u001b[0m             ) from err\n",
      "\u001b[1;31mProgrammingError\u001b[0m: 1051 (42S02): Unknown table 'dbms.temp'"
     ]
    }
   ],
   "source": [
    "cursor.execute(\"drop table dbms.temp\")\n"
   ]
  },
  {
   "cell_type": "code",
   "execution_count": 11,
   "metadata": {},
   "outputs": [],
   "source": [
    "db.close()"
   ]
  },
  {
   "attachments": {},
   "cell_type": "markdown",
   "metadata": {},
   "source": [
    "Q3\n",
    "\n",
    "Data Manipulation Language is used to manipulate data in  a table. It is used to insert, delete, modify the data within a table.\n",
    "\n",
    "<h3>Insert</h3>\n",
    "\n",
    "Insert is used to insert rows inside a table.\n"
   ]
  },
  {
   "cell_type": "code",
   "execution_count": 13,
   "metadata": {},
   "outputs": [],
   "source": [
    "import mysql.connector\n",
    "db=mysql.connector.connect(\n",
    "    host='localhost',\n",
    "    user='root',\n",
    "    password='Dusa@123'\n",
    ")\n",
    "mycursor=db.cursor()\n",
    "mycursor.execute(\"Insert Into dbms.sailor Values(5,'Junaid',4,22,3)\")\n",
    "db.commit()\n",
    "\n"
   ]
  },
  {
   "attachments": {},
   "cell_type": "markdown",
   "metadata": {},
   "source": [
    "<h3>Update</h3>\n",
    "\n",
    "Update statement is used to update column values of a single or a set of rows\n"
   ]
  },
  {
   "cell_type": "code",
   "execution_count": 16,
   "metadata": {},
   "outputs": [],
   "source": [
    "mycursor.execute(\"update dbms.sailor Set rating=2 Where sid=5\")\n",
    "db.commit()"
   ]
  },
  {
   "cell_type": "code",
   "execution_count": 17,
   "metadata": {},
   "outputs": [
    {
     "name": "stdout",
     "output_type": "stream",
     "text": [
      "(1, 'Sai', 3, 20, 1)\n",
      "(2, 'Krishna', 5, 21, 1)\n",
      "(3, 'Bobb', 3, 18, 2)\n",
      "(4, 'Raju', 5, 18, 2)\n",
      "(5, 'Junaid', 2, 22, 3)\n"
     ]
    }
   ],
   "source": [
    "mycursor.execute('select * from dbms.sailor')\n",
    "for i in mycursor.fetchall():\n",
    "    print(i)\n",
    "    \n",
    "#New row has been added and its rating is also updated.\n"
   ]
  },
  {
   "attachments": {},
   "cell_type": "markdown",
   "metadata": {},
   "source": [
    "<h3>Delete</h3>\n",
    " Used to delete rows from a table"
   ]
  },
  {
   "cell_type": "code",
   "execution_count": 18,
   "metadata": {},
   "outputs": [
    {
     "name": "stdout",
     "output_type": "stream",
     "text": [
      "(1, 'Sai', 3, 20, 1)\n",
      "(2, 'Krishna', 5, 21, 1)\n",
      "(3, 'Bobb', 3, 18, 2)\n",
      "(4, 'Raju', 5, 18, 2)\n"
     ]
    }
   ],
   "source": [
    "mycursor.execute('delete from dbms.sailor Where sid=5')\n",
    "db.commit()\n",
    "mycursor.execute('select * from dbms.sailor')\n",
    "for i in mycursor.fetchall():\n",
    "    print(i)\n",
    "    "
   ]
  },
  {
   "attachments": {},
   "cell_type": "markdown",
   "metadata": {},
   "source": [
    "Q4\n",
    "\n",
    "DQL is called Data Query Language. It is used to query the database. Select is one of the prominent statement of it.\n",
    "It is used to select a table from a database.\n"
   ]
  },
  {
   "cell_type": "code",
   "execution_count": 19,
   "metadata": {},
   "outputs": [
    {
     "name": "stdout",
     "output_type": "stream",
     "text": [
      "(1, 'Sai', 3, 20, 1)\n",
      "(2, 'Krishna', 5, 21, 1)\n",
      "(3, 'Bobb', 3, 18, 2)\n",
      "(4, 'Raju', 5, 18, 2)\n"
     ]
    }
   ],
   "source": [
    "mycursor.execute('select * from dbms.sailor')\n",
    "for i in mycursor.fetchall():\n",
    "    print(i)\n",
    "\n",
    "db.close()"
   ]
  },
  {
   "attachments": {},
   "cell_type": "markdown",
   "metadata": {},
   "source": [
    "Q5\n",
    "\n",
    "Primary Key is single or a set of columns in a table which are capable to uniquely identify each row.  Foreign Keys are primary keys of another table in a database. Foreign key acts like a bridge between its native table and current table for creating relationships and joins.\n",
    "Primary key and foreign key are fundamental pillars for building a relational database."
   ]
  },
  {
   "attachments": {},
   "cell_type": "markdown",
   "metadata": {},
   "source": [
    "Q6\n",
    "\n",
    "<h3>Cursor()</h3>\n",
    "\n",
    "    Cursor() is a method inside mysql package which returns a cursor object. It acts like a pointer to navigate various tables and its dimensions in a database.\n",
    "\n",
    "<h3>Execute()</h3>\n",
    "    Execute() is a method of cursor object which takes in a sql query inside it."
   ]
  },
  {
   "cell_type": "code",
   "execution_count": 21,
   "metadata": {},
   "outputs": [
    {
     "name": "stdout",
     "output_type": "stream",
     "text": [
      "(10, 'Data Team', 'USA', 'CTO', 500000)\n",
      "(11, 'EXecutive Team', 'India', 'CEO', 100000)\n"
     ]
    }
   ],
   "source": [
    "import mysql.connector\n",
    "db=mysql.connector.connect(\n",
    "    host='localhost',\n",
    "    user='root',\n",
    "    password='Dusa@123'\n",
    ")\n",
    "mycursor=db.cursor()\n",
    "mycursor.execute(\"select * from dbms.department\")\n",
    "for i in mycursor.fetchall():\n",
    "    print(i)\n",
    "db.close()\n"
   ]
  },
  {
   "attachments": {},
   "cell_type": "markdown",
   "metadata": {},
   "source": [
    "Q7\n",
    "\n",
    "\n",
    "In an SQL query, the clauses are typically executed in the following order:\n",
    "\n",
    "<b>FROM:</b> Specifies the tables or views from which the data will be retrieved.<br>\n",
    "<b>WHERE: </b> Filters the data based on specified conditions.<br>\n",
    "<b>GROUP BY: </b> Groups the data based on one or more columns.<br>\n",
    "<b>HAVING: </b> Filters the grouped data based on specified conditions.<br>\n",
    "<b>SELECT:</b>  Selects the columns to be included in the result set.<br>\n",
    "<b>DISTINCT:</b>  Removes duplicate rows from the result set.<br>\n",
    "<b>ORDER BY:</b>  Sorts the result set based on specified columns.<br>\n",
    "<b>LIMIT/OFFSET:</b>  Limits the number of rows returned or skips a specified number of rows.<br>\n",
    "<b>UNION/INTERSECT/EXCEPT:</b>  Combines the result sets of multiple queries.<br>\n",
    "<b>INSERT/UPDATE/DELETE:</b>  Modifies data in the database.<br>\n",
    "<b>COMMIT/ROLLBACK:</b>  Saves or reverts the changes made by the transaction.<br>\n",
    "\n"
   ]
  },
  {
   "cell_type": "code",
   "execution_count": null,
   "metadata": {},
   "outputs": [],
   "source": []
  },
  {
   "cell_type": "code",
   "execution_count": null,
   "metadata": {},
   "outputs": [],
   "source": []
  }
 ],
 "metadata": {
  "kernelspec": {
   "display_name": "base",
   "language": "python",
   "name": "python3"
  },
  "language_info": {
   "codemirror_mode": {
    "name": "ipython",
    "version": 3
   },
   "file_extension": ".py",
   "mimetype": "text/x-python",
   "name": "python",
   "nbconvert_exporter": "python",
   "pygments_lexer": "ipython3",
   "version": "3.9.13"
  },
  "orig_nbformat": 4
 },
 "nbformat": 4,
 "nbformat_minor": 2
}

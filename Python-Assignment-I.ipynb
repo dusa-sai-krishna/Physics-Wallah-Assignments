{
 "cells": [
  {
   "cell_type": "code",
   "execution_count": 3,
   "metadata": {},
   "outputs": [
    {
     "name": "stdout",
     "output_type": "stream",
     "text": [
      "The data type of myString is <class 'str'>\n",
      "The data type of myLst is <class 'list'>\n",
      "The data type of num is <class 'float'>\n",
      "The data type of mytuple is <class 'tuple'>\n"
     ]
    }
   ],
   "source": [
    "#Q1\n",
    "#String\n",
    "myString='Hello World!'\n",
    "print('The data type of myString is {}'.format(type(myString)))\n",
    "#List\n",
    "myLst=[1,2,3,45]\n",
    "print('The data type of myLst is {}'.format(type(myLst)))\n",
    "#float\n",
    "num=12.3534\n",
    "print('The data type of num is {}'.format(type(num)))\n",
    "#tuple\n",
    "mytuple=(2,)\n",
    "print('The data type of mytuple is {}'.format(type(mytuple)))"
   ]
  },
  {
   "cell_type": "code",
   "execution_count": 4,
   "metadata": {},
   "outputs": [
    {
     "name": "stdout",
     "output_type": "stream",
     "text": [
      "The data type of var1 is <class 'str'>\n",
      "The data type of var2 is <class 'str'>\n",
      "The data type of var3 is <class 'list'>\n",
      "The data type of var4 is <class 'float'>\n"
     ]
    }
   ],
   "source": [
    "#Q2\n",
    "var1=''\n",
    "print('The data type of var1 is {}'.format(type(var1)))\n",
    "var2='[DS,ML,Python]'\n",
    "print('The data type of var2 is {}'.format(type(var2)))\n",
    "var3=['DS','ML','Python']\n",
    "print('The data type of var3 is {}'.format(type(var3)))\n",
    "var4=1.\n",
    "print('The data type of var4 is {}'.format(type(var4)))\n",
    "\n",
    "\n"
   ]
  },
  {
   "cell_type": "code",
   "execution_count": 5,
   "metadata": {},
   "outputs": [],
   "source": [
    "#Q3\n",
    "#'/' is a division operatior.\n",
    "#'%' is called a modulo operator used to get remainder as the result \n",
    "#'//' is callef a floor division operator which returns the integral part of a divison operation\n",
    "#'**' is used for exponentiation."
   ]
  },
  {
   "cell_type": "code",
   "execution_count": 6,
   "metadata": {},
   "outputs": [
    {
     "name": "stdout",
     "output_type": "stream",
     "text": [
      "<class 'int'>\n",
      "<class 'int'>\n",
      "<class 'float'>\n",
      "<class 'str'>\n",
      "<class 'list'>\n",
      "<class 'tuple'>\n",
      "<class 'dict'>\n",
      "<class 'str'>\n",
      "<class 'int'>\n",
      "<class 'int'>\n"
     ]
    }
   ],
   "source": [
    "#Q4\n",
    "lst=[1,2,4.123,'sai',[],(5,),{1:0},'krish',9,10]\n",
    "for i in lst:\n",
    "    print(type(i))\n"
   ]
  },
  {
   "cell_type": "code",
   "execution_count": 9,
   "metadata": {},
   "outputs": [
    {
     "name": "stdout",
     "output_type": "stream",
     "text": [
      "A is divisible by B for 3.0 times\n"
     ]
    }
   ],
   "source": [
    "#Q5\n",
    "import math\n",
    "a=int(input('Enter a:'))\n",
    "b=int(input('Enter b:'))\n",
    "if a%b==0:\n",
    "    print('A is divisible by B for {} times'.format(math.log(a,b)))\n",
    "    "
   ]
  },
  {
   "cell_type": "code",
   "execution_count": 10,
   "metadata": {},
   "outputs": [
    {
     "name": "stdout",
     "output_type": "stream",
     "text": [
      "0-divisible by 3\n",
      "1- not divisible by 3\n",
      "2- not divisible by 3\n",
      "3-divisible by 3\n",
      "4- not divisible by 3\n",
      "5- not divisible by 3\n",
      "6-divisible by 3\n",
      "7- not divisible by 3\n",
      "8- not divisible by 3\n",
      "9-divisible by 3\n",
      "10- not divisible by 3\n",
      "11- not divisible by 3\n",
      "12-divisible by 3\n",
      "13- not divisible by 3\n",
      "14- not divisible by 3\n",
      "15-divisible by 3\n",
      "16- not divisible by 3\n",
      "17- not divisible by 3\n",
      "18-divisible by 3\n",
      "19- not divisible by 3\n",
      "20- not divisible by 3\n",
      "21-divisible by 3\n",
      "22- not divisible by 3\n",
      "23- not divisible by 3\n",
      "24-divisible by 3\n",
      "25- not divisible by 3\n"
     ]
    }
   ],
   "source": [
    "lst=[i for i in range(26)]\n",
    "for i in lst:\n",
    "    if i%3==0:\n",
    "        print('{}-divisible by 3'.format(i))\n",
    "    else:\n",
    "        print('{}- not divisible by 3'.format(i))\n",
    "\n",
    "    "
   ]
  },
  {
   "cell_type": "code",
   "execution_count": 12,
   "metadata": {},
   "outputs": [
    {
     "name": "stdout",
     "output_type": "stream",
     "text": [
      "[1, 2, 3, 5]\n",
      "Error encountered\n"
     ]
    }
   ],
   "source": [
    "#Mutable are those data types which can be altered whereas immutable data types \n",
    "# cannot be altered\n",
    "#Example of Mutable\n",
    "lst=[1,2,3,4]\n",
    "lst[3]=5\n",
    "print(lst) \n",
    "#Dat within list data structure can be altered because it's a mutable data type\n",
    "#Example of Immutable\n",
    "try:\n",
    "    tuple=(1,2,34,5)\n",
    "    tuple[3]=4\n",
    "    print(tuple)\n",
    "except:\n",
    "    print('Error encountered')"
   ]
  },
  {
   "cell_type": "code",
   "execution_count": null,
   "metadata": {},
   "outputs": [],
   "source": []
  }
 ],
 "metadata": {
  "kernelspec": {
   "display_name": "base",
   "language": "python",
   "name": "python3"
  },
  "language_info": {
   "codemirror_mode": {
    "name": "ipython",
    "version": 3
   },
   "file_extension": ".py",
   "mimetype": "text/x-python",
   "name": "python",
   "nbconvert_exporter": "python",
   "pygments_lexer": "ipython3",
   "version": "3.9.13"
  },
  "orig_nbformat": 4
 },
 "nbformat": 4,
 "nbformat_minor": 2
}

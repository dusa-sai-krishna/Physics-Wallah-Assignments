{
 "cells": [
  {
   "cell_type": "markdown",
   "metadata": {},
   "source": [
    "Q1\n",
    "\n",
    "\n",
    "The three measures of central tendency are:\n",
    "\n",
    "Mean: The mean is the average of all the data points in a dataset. It is calculated by summing all the values and dividing by the number of data points. The mean provides a balanced measure of central tendency, incorporating all data values.\n",
    "\n",
    "Median: The median is the middle value in a dataset when the data is arranged in ascending or descending order. It is not influenced by extreme values (outliers) and represents the central value that divides the dataset into two equal halves.\n",
    "\n",
    "Mode: The mode is the value that occurs most frequently in a dataset. It represents the most common value or category, especially useful for categorical data with distinct categories."
   ]
  },
  {
   "cell_type": "markdown",
   "metadata": {},
   "source": [
    "Q2\n",
    "\n",
    "Mean: The mean is the average of all the data points in a dataset. It is calculated by summing all the values and dividing by the number of data points. The mean is sensitive to extreme values and provides a balanced representation of central tendency.\n",
    "\n",
    "Median: The median is the middle value in a dataset when the data is arranged in ascending or descending order. It is not affected by extreme values (outliers) and represents the central value that divides the dataset into two equal halves.\n",
    "\n",
    "Mode: The mode is the value that occurs most frequently in a dataset. It represents the most common value or category, especially useful for categorical data with distinct categories.\n",
    "\n",
    "By using these measures, researchers gain insights into different aspects of central tendency, allowing them to better understand the typical or central value in the data."
   ]
  },
  {
   "cell_type": "markdown",
   "metadata": {},
   "source": [
    "Q3\n",
    "\n"
   ]
  },
  {
   "cell_type": "code",
   "execution_count": 3,
   "metadata": {},
   "outputs": [
    {
     "name": "stdout",
     "output_type": "stream",
     "text": [
      "Mean:177.01875\n",
      "Median:177.0\n",
      "Mode:ModeResult(mode=array([177.]), count=array([3]))\n"
     ]
    },
    {
     "name": "stderr",
     "output_type": "stream",
     "text": [
      "C:\\Users\\dsai9\\AppData\\Local\\Temp\\ipykernel_15324\\1549570854.py:6: FutureWarning: Unlike other reduction functions (e.g. `skew`, `kurtosis`), the default behavior of `mode` typically preserves the axis it acts along. In SciPy 1.11.0, this behavior will change: the default value of `keepdims` will become False, the `axis` over which the statistic is taken will be eliminated, and the value None will no longer be accepted. Set `keepdims` to True or False to avoid this warning.\n",
      "  print('Mode:{}'.format(scipy.stats.mode(data)))\n"
     ]
    }
   ],
   "source": [
    "import numpy as np\n",
    "import scipy.stats\n",
    "data=[178,177,176,177,178.2,178,175,179,180,175,178.9,176.2,177,172.5,178,176.5]\n",
    "print('Mean:{}'.format(np.mean(data)))\n",
    "print('Median:{}'.format(np.median(data)))\n",
    "print('Mode:{}'.format(scipy.stats.mode(data)))"
   ]
  },
  {
   "cell_type": "markdown",
   "metadata": {},
   "source": [
    "Q4"
   ]
  },
  {
   "cell_type": "code",
   "execution_count": 4,
   "metadata": {},
   "outputs": [
    {
     "name": "stdout",
     "output_type": "stream",
     "text": [
      "1.7885814036548633\n"
     ]
    }
   ],
   "source": [
    "data=[178,177,176,177,178.2,178,175,179,180,175,178.9,176.2,177,172.5,178,176.5]\n",
    "print(np.std(data))"
   ]
  },
  {
   "cell_type": "markdown",
   "metadata": {},
   "source": [
    "Q5\n",
    "\n",
    "Measures of dispersion, such as range, variance, and standard deviation, are used to describe the spread or variability of data points in a dataset. They provide information about how much the individual data points deviate from the central tendency (mean, median, or mode). A larger measure of dispersion indicates a more spread-out dataset, while a smaller measure indicates a more concentrated or homogeneous dataset.\n",
    "\n",
    "Example:\n",
    "Consider two datasets:\n",
    "<br>\n",
    "Dataset 1: [10, 12, 15, 18, 20]\n",
    "<br>\n",
    "Dataset 2: [5, 10, 15, 20, 25]\n",
    "\n",
    "Range:\n",
    "Dataset 1: Range = 20 (maximum value) - 10 (minimum value) = 10\n",
    "<br>\n",
    "Dataset 2: Range = 25 (maximum value) - 5 (minimum value) = 20><br>\n",
    "The range measures the total spread of data from the minimum to the maximum value. In this example, Dataset 2 has a larger range, indicating a more extensive spread of data points compared to Dataset 1.\n",
    "\n",
    "Variance and Standard Deviation:\n",
    "Dataset 1: Variance ≈ 15.2, Standard Deviation ≈ 3.9\n",
    "Dataset 2: Variance ≈ 50, Standard Deviation ≈ 7.1\n",
    "Both variance and standard deviation quantify the dispersion of data points around the mean. In this example, Dataset 2 has a larger variance and standard deviation, indicating more variability in data points compared to Dataset 1, which has a smaller variance and standard deviation, reflecting a more tightly clustered dataset."
   ]
  },
  {
   "cell_type": "markdown",
   "metadata": {},
   "source": [
    "Q6\n",
    "\n",
    "A Venn diagram is a graphical representation of set relationships, used to visualize the common and distinct elements among multiple sets. It consists of overlapping circles or ellipses, with each circle representing a set, and the overlapping regions represent the intersection of sets, showing shared elements. Venn diagrams help to visually compare and contrast data sets and understand the relationships between them."
   ]
  },
  {
   "cell_type": "markdown",
   "metadata": {},
   "source": [
    "Q7\n",
    "\n",
    "A = (2,3,4,5,6,7) B = (0,2,6,8,10)"
   ]
  },
  {
   "cell_type": "code",
   "execution_count": 6,
   "metadata": {},
   "outputs": [
    {
     "name": "stdout",
     "output_type": "stream",
     "text": [
      "{0, 2, 3, 4, 5, 6, 7, 8, 10}\n",
      "{2, 6}\n"
     ]
    }
   ],
   "source": [
    "A = set([2,3,4,5,6,7]) \n",
    "B = set([0,2,6,8,10])\n",
    "print(A.union(B))\n",
    "print(A.intersection(B))"
   ]
  },
  {
   "cell_type": "markdown",
   "metadata": {},
   "source": [
    "Q8\n",
    "\n",
    "Skewness in data refers to the measure of asymmetry in its distribution. It indicates whether the data is skewed to the left (negatively skewed), skewed to the right (positively skewed), or symmetrical (zero skewness). Skewness is crucial in understanding the shape of a dataset and can affect the accuracy of statistical analyses and interpretations."
   ]
  },
  {
   "cell_type": "markdown",
   "metadata": {},
   "source": [
    "Q9\n",
    "\n",
    "If a data is right-skewed, the median will be positioned to the left of the mean. This is because in a right-skewed distribution, the tail of the data extends towards the higher values, pulling the mean to the right, towards the higher end of the distribution. The median, being less affected by extreme values, remains relatively closer to the center of the dataset."
   ]
  },
  {
   "cell_type": "markdown",
   "metadata": {},
   "source": [
    "Q10\n",
    "\n",
    "1. Covariance measures the degree to which two variables change together, indicating the direction of their relationship (positive or negative).\n",
    "2. Correlation is a standardized version of covariance, normalizing the measure to a scale between -1 and 1, representing the strength and direction of a linear relationship.\n",
    "3. Covariance values can vary widely and are not easily comparable between different datasets due to their non-standardized scale.\n",
    "4. Correlation values are standardized and provide a consistent scale, making it easier to compare and interpret the strength of relationships across different datasets.\n",
    "5. Correlation is commonly used in statistical analysis to assess the degree of linear association between variables and is preferred over covariance due to its standardized and interpretable nature."
   ]
  },
  {
   "cell_type": "markdown",
   "metadata": {},
   "source": [
    "Q11\n",
    "\n",
    "The formula for calculating the sample mean (x̄) is as follows:\n",
    "\n",
    "Sample Mean (x̄) = (Sum of all data points) / (Number of data points)\n",
    "\n",
    "Example Calculation:\n",
    "Let's consider a dataset of exam scores: [85, 78, 92, 88, 95].\n",
    "\n",
    "Step 1: Sum all the data points: 85 + 78 + 92 + 88 + 95 = 438.\n",
    "Step 2: Count the number of data points: There are 5 data points in the dataset.\n",
    "Step 3: Calculate the sample mean:\n",
    "x̄ = 438 / 5 = 87.6\n",
    "\n",
    "The sample mean for this dataset of exam scores is 87.6."
   ]
  },
  {
   "cell_type": "markdown",
   "metadata": {},
   "source": [
    "Q12\n",
    "\n",
    "For a normal distribution, all measures of central tendency such as mean, median and mode will be same."
   ]
  },
  {
   "cell_type": "markdown",
   "metadata": {},
   "source": [
    "Q13\n",
    "\n",
    "Covariance measures the degree to which two variables change together, indicating the direction (positive or negative) of their relationship.\n",
    "Correlation is a standardized version of covariance, scaling the measure to a range between -1 and 1, representing the strength and direction of a linear relationship, making it more interpretable and comparable between different datasets."
   ]
  },
  {
   "cell_type": "markdown",
   "metadata": {},
   "source": [
    "Q14\n",
    "\n",
    "Outliers can significantly affect measures of central tendency and dispersion:\n",
    "\n",
    "1. Measures of Central Tendency:\n",
    "   - Outliers can pull the mean towards extreme values, causing it to be biased and not representative of the typical values in the dataset.\n",
    "   - The median is less affected by outliers, as it represents the middle value and remains relatively stable even if extreme values are present.\n",
    "\n",
    "2. Measures of Dispersion:\n",
    "   - Outliers can inflate the range, making it a poor measure of spread, as it only considers the difference between the maximum and minimum values.\n",
    "   - Variance and standard deviation are sensitive to outliers since they are based on squared deviations from the mean, amplifying the impact of extreme values.\n",
    "\n",
    "Example:\n",
    "Consider the following dataset representing monthly salaries of employees in a company:\n",
    "[3000, 3200, 3300, 3400, 3500, 10000]\n",
    "\n",
    "Without the outlier (10000), the mean salary is (3000 + 3200 + 3300 + 3400 + 3500) / 5 = 3280.\n",
    "With the outlier included, the mean becomes (3000 + 3200 + 3300 + 3400 + 3500 + 10000) / 6 = 4566.67.\n",
    "\n",
    "The median remains unaffected by the outlier and remains at 3350 (the middle value).\n",
    "\n",
    "The range without the outlier is 3500 - 3000 = 500, but with the outlier, it becomes 10000 - 3000 = 7000, indicating a larger spread.\n",
    "\n",
    "The variance and standard deviation are substantially impacted by the outlier, increasing significantly compared to the values without the outlier.\n",
    "\n",
    "In this example, the presence of the outlier significantly affected both the measures of central tendency (mean) and dispersion (range, variance, and standard deviation), highlighting the importance of identifying and handling outliers appropriately in data analysis."
   ]
  },
  {
   "cell_type": "markdown",
   "metadata": {},
   "source": []
  },
  {
   "cell_type": "code",
   "execution_count": null,
   "metadata": {},
   "outputs": [],
   "source": []
  }
 ],
 "metadata": {
  "kernelspec": {
   "display_name": "base",
   "language": "python",
   "name": "python3"
  },
  "language_info": {
   "codemirror_mode": {
    "name": "ipython",
    "version": 3
   },
   "file_extension": ".py",
   "mimetype": "text/x-python",
   "name": "python",
   "nbconvert_exporter": "python",
   "pygments_lexer": "ipython3",
   "version": "3.9.13"
  },
  "orig_nbformat": 4
 },
 "nbformat": 4,
 "nbformat_minor": 2
}

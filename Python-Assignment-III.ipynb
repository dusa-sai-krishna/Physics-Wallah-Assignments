{
 "cells": [
  {
   "attachments": {},
   "cell_type": "markdown",
   "metadata": {},
   "source": [
    "Q 1\n",
    "\n",
    "def() keyword is used to create a function in python"
   ]
  },
  {
   "cell_type": "code",
   "execution_count": 1,
   "metadata": {},
   "outputs": [
    {
     "name": "stdout",
     "output_type": "stream",
     "text": [
      "[1, 3, 5, 7, 9, 11, 13, 15, 17, 19, 21, 23]\n"
     ]
    }
   ],
   "source": [
    "def odd(lst):\n",
    "    ans=[]\n",
    "    for i in lst:\n",
    "        if i%2!=0:\n",
    "            ans.append(i)\n",
    "    return ans\n",
    "\n",
    "lst=[i for i in range(1,25)]\n",
    "print(odd(lst))"
   ]
  },
  {
   "attachments": {},
   "cell_type": "markdown",
   "metadata": {},
   "source": [
    "Q 2\n",
    "\n",
    " *args and **kwargs are generally used to handle variable length arguments for a function in python.\n",
    "\n",
    " *args is passed as a parameter during definition of the function. This indicates any number of arguments can be given to the function. These arguments are stored in a tuple and can be iterated inside the function\n",
    "\n",
    " **kwargs is passed as a parameter during definition of the function. This indicates any number of key word arguments can be passed into the function. "
   ]
  },
  {
   "cell_type": "code",
   "execution_count": 2,
   "metadata": {},
   "outputs": [
    {
     "name": "stdout",
     "output_type": "stream",
     "text": [
      "1 2 4 5 6 \n",
      "name-Sai Student-Yes "
     ]
    }
   ],
   "source": [
    "#args\n",
    "def printThem(*args):\n",
    "    for i in args:\n",
    "        print(i,end=\" \")\n",
    "        \n",
    "printThem(1,2,4,5,6)\n",
    "print()\n",
    "#kwargs\n",
    "def printThem2(**kwargs):\n",
    "    for key,val in kwargs.items():\n",
    "        print(\"{}-{}\".format(key,val),end=\" \")\n",
    "        \n",
    "printThem2(name='Sai',Student='Yes')"
   ]
  },
  {
   "attachments": {},
   "cell_type": "markdown",
   "metadata": {},
   "source": [
    "Q 3\n",
    "\n",
    "An iterator is an object in python which is used to implement iterator protocol. It contains two methods, they are __iter__() and __next__().\n",
    "__iter__() converts an compatible object into iterating object and returns it.\n",
    "__next__()--It is called when we have to move pointer form one element to its successor in an iteration object."
   ]
  },
  {
   "cell_type": "code",
   "execution_count": 3,
   "metadata": {},
   "outputs": [
    {
     "name": "stdout",
     "output_type": "stream",
     "text": [
      "2\n",
      "4\n",
      "6\n",
      "8\n",
      "10\n"
     ]
    }
   ],
   "source": [
    "lst=[2, 4, 6, 8, 10, 12, 14,16, 18, 2]\n",
    "iteratingLst=iter(lst)\n",
    "count=0\n",
    "while count<5:\n",
    "    print(next(iteratingLst))\n",
    "    count+=1"
   ]
  },
  {
   "attachments": {},
   "cell_type": "markdown",
   "metadata": {},
   "source": [
    "Q 4\n",
    "\n",
    "A generator is a special type of function which generates a sequence of values. It is widely using for generating sequences because, they do not store these values in memory. \n",
    "Generally a generator is often used with yield. Whenver a yield statement is encountered, the function pauses to return the current function state and resumes again. "
   ]
  },
  {
   "cell_type": "code",
   "execution_count": 4,
   "metadata": {},
   "outputs": [
    {
     "name": "stdout",
     "output_type": "stream",
     "text": [
      "0\n",
      "1\n",
      "2\n",
      "3\n",
      "4\n",
      "5\n"
     ]
    }
   ],
   "source": [
    "#printing the first 5 elemnents\n",
    "def print5():\n",
    "    count=0\n",
    "    while True:\n",
    "        yield count\n",
    "        if count==5:\n",
    "            break\n",
    "        count+=1\n",
    "for i in print5():\n",
    "    print(i)"
   ]
  },
  {
   "attachments": {},
   "cell_type": "markdown",
   "metadata": {},
   "source": [
    "Q 5"
   ]
  },
  {
   "cell_type": "code",
   "execution_count": 5,
   "metadata": {},
   "outputs": [
    {
     "name": "stdout",
     "output_type": "stream",
     "text": [
      "1\n",
      "2\n",
      "3\n",
      "5\n",
      "7\n",
      "11\n",
      "13\n",
      "17\n",
      "19\n",
      "23\n",
      "29\n",
      "31\n",
      "37\n",
      "41\n",
      "43\n",
      "47\n",
      "53\n",
      "59\n",
      "61\n",
      "67\n"
     ]
    }
   ],
   "source": [
    "def isPrime(x):\n",
    "    if x>0:\n",
    "        if x==1 or x==2:\n",
    "            return True\n",
    "        else:\n",
    "            for y in range(2,x):\n",
    "                if x%y==0:\n",
    "                    return False\n",
    "        return True\n",
    "    else:\n",
    "        return False\n",
    "    \n",
    "def generator():\n",
    "    for i in range(1,1000):\n",
    "        ans=isPrime(i)\n",
    "        if ans:\n",
    "            yield i\n",
    "#DriverCode\n",
    "ans=generator()\n",
    "for i in range(20):\n",
    "    print(next(ans))"
   ]
  },
  {
   "attachments": {},
   "cell_type": "markdown",
   "metadata": {},
   "source": [
    "Q6\n"
   ]
  },
  {
   "cell_type": "code",
   "execution_count": 1,
   "metadata": {},
   "outputs": [
    {
     "name": "stdout",
     "output_type": "stream",
     "text": [
      "0 1 1 2 3 5 8 13 21 34 "
     ]
    }
   ],
   "source": [
    "def fibonacci(n):\n",
    "    if n>0:\n",
    "        a=0\n",
    "        b=1\n",
    "        print(a,b,end=\" \")\n",
    "        count=0\n",
    "        while count<n-2:\n",
    "            c=a+b\n",
    "            a=b\n",
    "            b=c\n",
    "            print(c,end=\" \")\n",
    "            count+=1\n",
    "    else:\n",
    "        print('Argument should be greater than zero')\n",
    "        \n",
    "#DriverCode\n",
    "fibonacci(10)"
   ]
  },
  {
   "attachments": {},
   "cell_type": "markdown",
   "metadata": {},
   "source": [
    "Q7\n"
   ]
  },
  {
   "cell_type": "code",
   "execution_count": 2,
   "metadata": {},
   "outputs": [
    {
     "name": "stdout",
     "output_type": "stream",
     "text": [
      "['p', 'w', 's', 'k', 'i', 'l', 'l', 's']\n"
     ]
    }
   ],
   "source": [
    "lst=[i for i in 'pwskills']\n",
    "print(lst)"
   ]
  },
  {
   "attachments": {},
   "cell_type": "markdown",
   "metadata": {},
   "source": [
    "Q8"
   ]
  },
  {
   "cell_type": "code",
   "execution_count": 4,
   "metadata": {},
   "outputs": [
    {
     "name": "stdout",
     "output_type": "stream",
     "text": [
      "True\n"
     ]
    }
   ],
   "source": [
    "def isPalindrome(txt):\n",
    "    n=len(txt)\n",
    "    if n>0 and n%2!=0:\n",
    "        mid=n-1//2\n",
    "        i=0\n",
    "        while i<mid:\n",
    "            if txt[i]!=txt[n-i-1]:\n",
    "                return False\n",
    "            i+=1\n",
    "        return True\n",
    "    else:\n",
    "        return False\n",
    "\n",
    "#DriverCode\n",
    "ans=isPalindrome(input())\n",
    "print(ans)"
   ]
  },
  {
   "attachments": {},
   "cell_type": "markdown",
   "metadata": {},
   "source": [
    "Q9\n"
   ]
  },
  {
   "cell_type": "code",
   "execution_count": 5,
   "metadata": {},
   "outputs": [
    {
     "name": "stdout",
     "output_type": "stream",
     "text": [
      "[1, 3, 5, 7, 9, 11, 13, 15, 17, 19, 21, 23, 25, 27, 29, 31, 33, 35, 37, 39, 41, 43, 45, 47, 49, 51, 53, 55, 57, 59, 61, 63, 65, 67, 69, 71, 73, 75, 77, 79, 81, 83, 85, 87, 89, 91, 93, 95, 97, 99]\n"
     ]
    }
   ],
   "source": [
    "lst1=[i for i in range(100)]\n",
    "lst2=[i for i in lst1 if i%2!=0]\n",
    "print(lst2)"
   ]
  },
  {
   "cell_type": "code",
   "execution_count": null,
   "metadata": {},
   "outputs": [],
   "source": []
  }
 ],
 "metadata": {
  "kernelspec": {
   "display_name": "base",
   "language": "python",
   "name": "python3"
  },
  "language_info": {
   "codemirror_mode": {
    "name": "ipython",
    "version": 3
   },
   "file_extension": ".py",
   "mimetype": "text/x-python",
   "name": "python",
   "nbconvert_exporter": "python",
   "pygments_lexer": "ipython3",
   "version": "3.9.13"
  },
  "orig_nbformat": 4
 },
 "nbformat": 4,
 "nbformat_minor": 2
}

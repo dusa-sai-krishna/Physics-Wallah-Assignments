{
 "cells": [
  {
   "attachments": {},
   "cell_type": "markdown",
   "metadata": {},
   "source": [
    "Q1"
   ]
  },
  {
   "attachments": {},
   "cell_type": "markdown",
   "metadata": {},
   "source": [
    "Single Line comments are created using '#' symbol\n",
    "Multi Line comments are created using triple quotes (''')"
   ]
  },
  {
   "cell_type": "code",
   "execution_count": null,
   "metadata": {},
   "outputs": [],
   "source": [
    "#This a single line comment\n",
    "'''\n",
    "This is a multi line comment\n",
    "You can write multiple lines of comments\n",
    "'''"
   ]
  },
  {
   "attachments": {},
   "cell_type": "markdown",
   "metadata": {},
   "source": [
    "Q2\n"
   ]
  },
  {
   "attachments": {},
   "cell_type": "markdown",
   "metadata": {},
   "source": [
    "In python, variable are used to reference and manipulate data. A varialbe represents a memory location and has a name to it. As python, is a dynamically typed language, variable are capable to auto detect the type of the data being stored in their respective memory location.\n",
    "\n",
    "A variable is created using a equal sign. Left hand side of equal sign contains name of the variable and right hand side contains the data itself\n",
    "Example:\n",
    "var1=10"
   ]
  },
  {
   "cell_type": "code",
   "execution_count": 2,
   "metadata": {},
   "outputs": [
    {
     "name": "stdout",
     "output_type": "stream",
     "text": [
      "10 <class 'int'>\n"
     ]
    }
   ],
   "source": [
    "var1=10\n",
    "print(var1,type(var1))\n"
   ]
  },
  {
   "attachments": {},
   "cell_type": "markdown",
   "metadata": {},
   "source": [
    "Q3\n",
    "\n",
    "Only compatible data types can be converted from one type to another. If this is not the case, then it results in ValueError .\n",
    "int()-Used to convert float values to integers\n",
    "\n",
    "\n",
    "float()-used to convert integers to float\n",
    "\n",
    "\n",
    "str()-used to convert a series of data into string\n",
    "\n",
    "bool()-: Converts a value to a boolean data type.\n",
    "\n",
    "list(), tuple(), and set(): Convert iterable objects like strings or lists to different data types."
   ]
  },
  {
   "attachments": {},
   "cell_type": "markdown",
   "metadata": {},
   "source": [
    "Q4\n",
    "\n",
    "Create a new file with a .py extension, such as HelloWorld.py.\n",
    "\n",
    "Write your Python code in the file using a text editor like notepad and save the file.\n",
    "\n",
    "Open a command prompt or terminal and navigate to the directory where the script is saved using command called 'cd'\n",
    "\n",
    "Execute the Python script by typing python followed by the script's filename.\n",
    "\n",
    "Press Enter to run the command.\n",
    "\n",
    "The Python interpreter will execute the script, and you will see the output in the command prompt or terminal."
   ]
  },
  {
   "attachments": {},
   "cell_type": "markdown",
   "metadata": {},
   "source": [
    "Q5\n"
   ]
  },
  {
   "cell_type": "code",
   "execution_count": 3,
   "metadata": {},
   "outputs": [
    {
     "name": "stdout",
     "output_type": "stream",
     "text": [
      "[2, 3]\n"
     ]
    }
   ],
   "source": [
    "lst=[1,2,3,4,5]\n",
    "print(lst[1:3])"
   ]
  },
  {
   "attachments": {},
   "cell_type": "markdown",
   "metadata": {},
   "source": [
    "Q6\n",
    "\n",
    "Complex Numbers are a type of of number which are not real. They have the following structure 'a+ib' where a represents real number and b represents imaginary number.\n",
    "\n",
    "In python, complex() can be used to create a complex number. It takes two arguments, one is real and another is imaginary. One can also create a coomplex number like this:   z=1+3j\n",
    "\n",
    "We can use normal arithmetic operators on complex data types. Complex data type have two arguments: They are .real and .imag                                                "
   ]
  },
  {
   "cell_type": "code",
   "execution_count": 4,
   "metadata": {},
   "outputs": [
    {
     "name": "stdout",
     "output_type": "stream",
     "text": [
      "(2+3j) <class 'complex'>\n",
      "(1+4j) <class 'complex'>\n"
     ]
    }
   ],
   "source": [
    "z=complex(2,3)\n",
    "print(z,type(z))\n",
    "z1=1+4j\n",
    "print(z1,type(z1))"
   ]
  },
  {
   "attachments": {},
   "cell_type": "markdown",
   "metadata": {},
   "source": [
    "Q7\n",
    "\n"
   ]
  },
  {
   "cell_type": "code",
   "execution_count": 5,
   "metadata": {},
   "outputs": [
    {
     "name": "stdout",
     "output_type": "stream",
     "text": [
      "25\n"
     ]
    }
   ],
   "source": [
    "age=25\n",
    "print(age)"
   ]
  },
  {
   "attachments": {},
   "cell_type": "markdown",
   "metadata": {},
   "source": [
    "Q8"
   ]
  },
  {
   "cell_type": "code",
   "execution_count": 6,
   "metadata": {},
   "outputs": [
    {
     "name": "stdout",
     "output_type": "stream",
     "text": [
      "<class 'float'>\n"
     ]
    }
   ],
   "source": [
    "price=9.99\n",
    "print(type(price))"
   ]
  },
  {
   "attachments": {},
   "cell_type": "markdown",
   "metadata": {},
   "source": [
    "Q9"
   ]
  },
  {
   "cell_type": "code",
   "execution_count": 7,
   "metadata": {},
   "outputs": [
    {
     "name": "stdout",
     "output_type": "stream",
     "text": [
      "Dusa Sai Krishna\n"
     ]
    }
   ],
   "source": [
    "name='Dusa Sai Krishna'\n",
    "print(name)"
   ]
  },
  {
   "attachments": {},
   "cell_type": "markdown",
   "metadata": {},
   "source": [
    "Q 10"
   ]
  },
  {
   "cell_type": "code",
   "execution_count": 8,
   "metadata": {},
   "outputs": [
    {
     "name": "stdout",
     "output_type": "stream",
     "text": [
      "World\n"
     ]
    }
   ],
   "source": [
    "string='Hello World'\n",
    "print(string[6:])"
   ]
  },
  {
   "attachments": {},
   "cell_type": "markdown",
   "metadata": {},
   "source": [
    "Q 11"
   ]
  },
  {
   "cell_type": "code",
   "execution_count": 9,
   "metadata": {},
   "outputs": [
    {
     "name": "stdout",
     "output_type": "stream",
     "text": [
      "<class 'bool'>\n"
     ]
    }
   ],
   "source": [
    "is_student=True\n",
    "print(type(is_student))"
   ]
  },
  {
   "cell_type": "code",
   "execution_count": null,
   "metadata": {},
   "outputs": [],
   "source": []
  }
 ],
 "metadata": {
  "kernelspec": {
   "display_name": "base",
   "language": "python",
   "name": "python3"
  },
  "language_info": {
   "codemirror_mode": {
    "name": "ipython",
    "version": 3
   },
   "file_extension": ".py",
   "mimetype": "text/x-python",
   "name": "python",
   "nbconvert_exporter": "python",
   "pygments_lexer": "ipython3",
   "version": "3.9.13"
  },
  "orig_nbformat": 4
 },
 "nbformat": 4,
 "nbformat_minor": 2
}

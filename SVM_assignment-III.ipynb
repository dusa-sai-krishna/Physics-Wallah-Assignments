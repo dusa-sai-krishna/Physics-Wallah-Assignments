{
 "cells": [
  {
   "cell_type": "markdown",
   "metadata": {},
   "source": [
    "Q1\n"
   ]
  },
  {
   "cell_type": "code",
   "execution_count": 154,
   "metadata": {},
   "outputs": [],
   "source": [
    "#import libraries\n",
    "import numpy as np\n",
    "import pandas as pd\n",
    "import matplotlib.pyplot as plt\n",
    "import seaborn as sns\n",
    "%matplotlib inline"
   ]
  },
  {
   "cell_type": "code",
   "execution_count": 155,
   "metadata": {},
   "outputs": [
    {
     "data": {
      "text/html": [
       "<div>\n",
       "<style scoped>\n",
       "    .dataframe tbody tr th:only-of-type {\n",
       "        vertical-align: middle;\n",
       "    }\n",
       "\n",
       "    .dataframe tbody tr th {\n",
       "        vertical-align: top;\n",
       "    }\n",
       "\n",
       "    .dataframe thead th {\n",
       "        text-align: right;\n",
       "    }\n",
       "</style>\n",
       "<table border=\"1\" class=\"dataframe\">\n",
       "  <thead>\n",
       "    <tr style=\"text-align: right;\">\n",
       "      <th></th>\n",
       "      <th>area_type</th>\n",
       "      <th>availability</th>\n",
       "      <th>location</th>\n",
       "      <th>size</th>\n",
       "      <th>society</th>\n",
       "      <th>total_sqft</th>\n",
       "      <th>bath</th>\n",
       "      <th>balcony</th>\n",
       "      <th>price</th>\n",
       "    </tr>\n",
       "  </thead>\n",
       "  <tbody>\n",
       "    <tr>\n",
       "      <th>0</th>\n",
       "      <td>Super built-up  Area</td>\n",
       "      <td>19-Dec</td>\n",
       "      <td>Electronic City Phase II</td>\n",
       "      <td>2 BHK</td>\n",
       "      <td>Coomee</td>\n",
       "      <td>1056</td>\n",
       "      <td>2.0</td>\n",
       "      <td>1.0</td>\n",
       "      <td>39.07</td>\n",
       "    </tr>\n",
       "    <tr>\n",
       "      <th>1</th>\n",
       "      <td>Plot  Area</td>\n",
       "      <td>Ready To Move</td>\n",
       "      <td>Chikka Tirupathi</td>\n",
       "      <td>4 Bedroom</td>\n",
       "      <td>Theanmp</td>\n",
       "      <td>2600</td>\n",
       "      <td>5.0</td>\n",
       "      <td>3.0</td>\n",
       "      <td>120.00</td>\n",
       "    </tr>\n",
       "  </tbody>\n",
       "</table>\n",
       "</div>"
      ],
      "text/plain": [
       "              area_type   availability                  location       size  \\\n",
       "0  Super built-up  Area         19-Dec  Electronic City Phase II      2 BHK   \n",
       "1            Plot  Area  Ready To Move          Chikka Tirupathi  4 Bedroom   \n",
       "\n",
       "   society total_sqft  bath  balcony   price  \n",
       "0  Coomee        1056   2.0      1.0   39.07  \n",
       "1  Theanmp       2600   5.0      3.0  120.00  "
      ]
     },
     "execution_count": 155,
     "metadata": {},
     "output_type": "execute_result"
    }
   ],
   "source": [
    "#load dataset\n",
    "data=pd.read_csv('Bengaluru_House_Data.csv')\n",
    "df=data.copy()\n",
    "df.head(2)"
   ]
  },
  {
   "cell_type": "markdown",
   "metadata": {},
   "source": [
    "# Cleaning and EDA #"
   ]
  },
  {
   "cell_type": "code",
   "execution_count": 156,
   "metadata": {},
   "outputs": [
    {
     "name": "stdout",
     "output_type": "stream",
     "text": [
      "<class 'pandas.core.frame.DataFrame'>\n",
      "RangeIndex: 13320 entries, 0 to 13319\n",
      "Data columns (total 9 columns):\n",
      " #   Column        Non-Null Count  Dtype  \n",
      "---  ------        --------------  -----  \n",
      " 0   area_type     13320 non-null  object \n",
      " 1   availability  13320 non-null  object \n",
      " 2   location      13319 non-null  object \n",
      " 3   size          13304 non-null  object \n",
      " 4   society       7818 non-null   object \n",
      " 5   total_sqft    13320 non-null  object \n",
      " 6   bath          13247 non-null  float64\n",
      " 7   balcony       12711 non-null  float64\n",
      " 8   price         13320 non-null  float64\n",
      "dtypes: float64(3), object(6)\n",
      "memory usage: 936.7+ KB\n"
     ]
    }
   ],
   "source": [
    "df.info()"
   ]
  },
  {
   "cell_type": "code",
   "execution_count": 157,
   "metadata": {},
   "outputs": [
    {
     "data": {
      "text/plain": [
       "529"
      ]
     },
     "execution_count": 157,
     "metadata": {},
     "output_type": "execute_result"
    }
   ],
   "source": [
    "#check for duplicates\n",
    "df.duplicated().sum()"
   ]
  },
  {
   "cell_type": "code",
   "execution_count": 158,
   "metadata": {},
   "outputs": [],
   "source": [
    "#drop the duplicates\n",
    "df.drop_duplicates(inplace=True)"
   ]
  },
  {
   "cell_type": "code",
   "execution_count": 159,
   "metadata": {},
   "outputs": [
    {
     "data": {
      "text/plain": [
       "area_type          0\n",
       "availability       0\n",
       "location           1\n",
       "size              16\n",
       "society         5328\n",
       "total_sqft         0\n",
       "bath              73\n",
       "balcony          605\n",
       "price              0\n",
       "dtype: int64"
      ]
     },
     "execution_count": 159,
     "metadata": {},
     "output_type": "execute_result"
    }
   ],
   "source": [
    "#checking for missing values\n",
    "df.isna().sum()"
   ]
  },
  {
   "cell_type": "markdown",
   "metadata": {},
   "source": [
    "## Observation\n",
    "- OUt of 12000 rows, nearly 5000 rows are empty for society column. This is nearly 50 %. Let's completely remove it."
   ]
  },
  {
   "cell_type": "code",
   "execution_count": 160,
   "metadata": {},
   "outputs": [],
   "source": [
    "df.drop('society',axis=1,inplace=True)"
   ]
  },
  {
   "cell_type": "code",
   "execution_count": 161,
   "metadata": {},
   "outputs": [
    {
     "data": {
      "text/plain": [
       "2.0    4846\n",
       "1.0    4700\n",
       "3.0    1630\n",
       "0.0    1010\n",
       "Name: balcony, dtype: int64"
      ]
     },
     "execution_count": 161,
     "metadata": {},
     "output_type": "execute_result"
    }
   ],
   "source": [
    "df['balcony'].value_counts()"
   ]
  },
  {
   "cell_type": "markdown",
   "metadata": {},
   "source": [
    "### Handling size column\n"
   ]
  },
  {
   "cell_type": "code",
   "execution_count": 162,
   "metadata": {},
   "outputs": [
    {
     "data": {
      "text/plain": [
       "2 BHK         4931\n",
       "3 BHK         4120\n",
       "4 Bedroom      824\n",
       "4 BHK          574\n",
       "3 Bedroom      535\n",
       "1 BHK          521\n",
       "2 Bedroom      314\n",
       "5 Bedroom      291\n",
       "6 Bedroom      191\n",
       "1 Bedroom      104\n",
       "8 Bedroom       84\n",
       "7 Bedroom       82\n",
       "5 BHK           59\n",
       "9 Bedroom       46\n",
       "6 BHK           30\n",
       "7 BHK           17\n",
       "1 RK            13\n",
       "10 Bedroom      12\n",
       "9 BHK            8\n",
       "8 BHK            5\n",
       "11 BHK           2\n",
       "11 Bedroom       2\n",
       "10 BHK           2\n",
       "14 BHK           1\n",
       "13 BHK           1\n",
       "12 Bedroom       1\n",
       "27 BHK           1\n",
       "43 Bedroom       1\n",
       "16 BHK           1\n",
       "19 BHK           1\n",
       "18 Bedroom       1\n",
       "Name: size, dtype: int64"
      ]
     },
     "execution_count": 162,
     "metadata": {},
     "output_type": "execute_result"
    }
   ],
   "source": [
    "df['size'].value_counts()"
   ]
  },
  {
   "cell_type": "code",
   "execution_count": 163,
   "metadata": {},
   "outputs": [
    {
     "data": {
      "text/plain": [
       "array(['2 Bedroom', '4 Bedroom', '3 Bedroom', '6 Bedroom', '1 Bedroom',\n",
       "       '1 RK', '8 Bedroom', '7 Bedroom', '5 Bedroom', '11 Bedroom',\n",
       "       '9 Bedroom', nan, '27 Bedroom', '10 Bedroom', '19 Bedroom',\n",
       "       '16 Bedroom', '43 Bedroom', '14 Bedroom', '12 Bedroom',\n",
       "       '13 Bedroom', '18 Bedroom'], dtype=object)"
      ]
     },
     "execution_count": 163,
     "metadata": {},
     "output_type": "execute_result"
    }
   ],
   "source": [
    "#Let's convert all values in the form of bedroom\n",
    "df['size']=df['size'].str.replace('BHK','Bedroom')\n",
    "df['size'].unique()"
   ]
  },
  {
   "cell_type": "code",
   "execution_count": 164,
   "metadata": {},
   "outputs": [
    {
     "data": {
      "text/html": [
       "<div>\n",
       "<style scoped>\n",
       "    .dataframe tbody tr th:only-of-type {\n",
       "        vertical-align: middle;\n",
       "    }\n",
       "\n",
       "    .dataframe tbody tr th {\n",
       "        vertical-align: top;\n",
       "    }\n",
       "\n",
       "    .dataframe thead th {\n",
       "        text-align: right;\n",
       "    }\n",
       "</style>\n",
       "<table border=\"1\" class=\"dataframe\">\n",
       "  <thead>\n",
       "    <tr style=\"text-align: right;\">\n",
       "      <th></th>\n",
       "      <th>area_type</th>\n",
       "      <th>availability</th>\n",
       "      <th>location</th>\n",
       "      <th>size</th>\n",
       "      <th>total_sqft</th>\n",
       "      <th>bath</th>\n",
       "      <th>balcony</th>\n",
       "      <th>price</th>\n",
       "    </tr>\n",
       "  </thead>\n",
       "  <tbody>\n",
       "    <tr>\n",
       "      <th>24</th>\n",
       "      <td>Super built-up  Area</td>\n",
       "      <td>18-Nov</td>\n",
       "      <td>Thanisandra</td>\n",
       "      <td>1 RK</td>\n",
       "      <td>510</td>\n",
       "      <td>1.0</td>\n",
       "      <td>0.0</td>\n",
       "      <td>25.25</td>\n",
       "    </tr>\n",
       "    <tr>\n",
       "      <th>782</th>\n",
       "      <td>Super built-up  Area</td>\n",
       "      <td>Ready To Move</td>\n",
       "      <td>Thanisandra</td>\n",
       "      <td>1 RK</td>\n",
       "      <td>445</td>\n",
       "      <td>1.0</td>\n",
       "      <td>0.0</td>\n",
       "      <td>28.00</td>\n",
       "    </tr>\n",
       "    <tr>\n",
       "      <th>1363</th>\n",
       "      <td>Super built-up  Area</td>\n",
       "      <td>21-Nov</td>\n",
       "      <td>Thanisandra</td>\n",
       "      <td>1 RK</td>\n",
       "      <td>510</td>\n",
       "      <td>1.0</td>\n",
       "      <td>1.0</td>\n",
       "      <td>25.25</td>\n",
       "    </tr>\n",
       "    <tr>\n",
       "      <th>2486</th>\n",
       "      <td>Super built-up  Area</td>\n",
       "      <td>19-Dec</td>\n",
       "      <td>Bhoganhalli</td>\n",
       "      <td>1 RK</td>\n",
       "      <td>296</td>\n",
       "      <td>1.0</td>\n",
       "      <td>0.0</td>\n",
       "      <td>22.89</td>\n",
       "    </tr>\n",
       "    <tr>\n",
       "      <th>2557</th>\n",
       "      <td>Built-up  Area</td>\n",
       "      <td>Ready To Move</td>\n",
       "      <td>Anekal</td>\n",
       "      <td>1 RK</td>\n",
       "      <td>351</td>\n",
       "      <td>1.0</td>\n",
       "      <td>1.0</td>\n",
       "      <td>16.00</td>\n",
       "    </tr>\n",
       "    <tr>\n",
       "      <th>2788</th>\n",
       "      <td>Super built-up  Area</td>\n",
       "      <td>20-Aug</td>\n",
       "      <td>Rachenahalli</td>\n",
       "      <td>1 RK</td>\n",
       "      <td>440</td>\n",
       "      <td>1.0</td>\n",
       "      <td>0.0</td>\n",
       "      <td>28.00</td>\n",
       "    </tr>\n",
       "    <tr>\n",
       "      <th>4876</th>\n",
       "      <td>Built-up  Area</td>\n",
       "      <td>Ready To Move</td>\n",
       "      <td>Electronic City</td>\n",
       "      <td>1 RK</td>\n",
       "      <td>435</td>\n",
       "      <td>1.0</td>\n",
       "      <td>1.0</td>\n",
       "      <td>19.50</td>\n",
       "    </tr>\n",
       "    <tr>\n",
       "      <th>5079</th>\n",
       "      <td>Built-up  Area</td>\n",
       "      <td>17-Jun</td>\n",
       "      <td>Whitefield</td>\n",
       "      <td>1 RK</td>\n",
       "      <td>905</td>\n",
       "      <td>1.0</td>\n",
       "      <td>1.0</td>\n",
       "      <td>52.00</td>\n",
       "    </tr>\n",
       "    <tr>\n",
       "      <th>5285</th>\n",
       "      <td>Super built-up  Area</td>\n",
       "      <td>18-May</td>\n",
       "      <td>Rachenahalli</td>\n",
       "      <td>1 RK</td>\n",
       "      <td>385 - 440</td>\n",
       "      <td>1.0</td>\n",
       "      <td>0.0</td>\n",
       "      <td>19.80</td>\n",
       "    </tr>\n",
       "    <tr>\n",
       "      <th>6586</th>\n",
       "      <td>Super built-up  Area</td>\n",
       "      <td>Ready To Move</td>\n",
       "      <td>Electronics City Phase 1</td>\n",
       "      <td>1 RK</td>\n",
       "      <td>360</td>\n",
       "      <td>1.0</td>\n",
       "      <td>0.0</td>\n",
       "      <td>16.90</td>\n",
       "    </tr>\n",
       "    <tr>\n",
       "      <th>7638</th>\n",
       "      <td>Super built-up  Area</td>\n",
       "      <td>Ready To Move</td>\n",
       "      <td>Basavangudi</td>\n",
       "      <td>1 RK</td>\n",
       "      <td>670</td>\n",
       "      <td>1.0</td>\n",
       "      <td>1.0</td>\n",
       "      <td>50.00</td>\n",
       "    </tr>\n",
       "    <tr>\n",
       "      <th>8385</th>\n",
       "      <td>Super built-up  Area</td>\n",
       "      <td>Ready To Move</td>\n",
       "      <td>Banaswadi</td>\n",
       "      <td>1 RK</td>\n",
       "      <td>527</td>\n",
       "      <td>1.0</td>\n",
       "      <td>0.0</td>\n",
       "      <td>35.00</td>\n",
       "    </tr>\n",
       "    <tr>\n",
       "      <th>10576</th>\n",
       "      <td>Built-up  Area</td>\n",
       "      <td>Ready To Move</td>\n",
       "      <td>Electronic City</td>\n",
       "      <td>1 RK</td>\n",
       "      <td>550</td>\n",
       "      <td>1.0</td>\n",
       "      <td>1.0</td>\n",
       "      <td>27.00</td>\n",
       "    </tr>\n",
       "  </tbody>\n",
       "</table>\n",
       "</div>"
      ],
      "text/plain": [
       "                  area_type   availability                  location  size  \\\n",
       "24     Super built-up  Area         18-Nov               Thanisandra  1 RK   \n",
       "782    Super built-up  Area  Ready To Move               Thanisandra  1 RK   \n",
       "1363   Super built-up  Area         21-Nov               Thanisandra  1 RK   \n",
       "2486   Super built-up  Area         19-Dec               Bhoganhalli  1 RK   \n",
       "2557         Built-up  Area  Ready To Move                    Anekal  1 RK   \n",
       "2788   Super built-up  Area         20-Aug              Rachenahalli  1 RK   \n",
       "4876         Built-up  Area  Ready To Move           Electronic City  1 RK   \n",
       "5079         Built-up  Area         17-Jun                Whitefield  1 RK   \n",
       "5285   Super built-up  Area         18-May              Rachenahalli  1 RK   \n",
       "6586   Super built-up  Area  Ready To Move  Electronics City Phase 1  1 RK   \n",
       "7638   Super built-up  Area  Ready To Move               Basavangudi  1 RK   \n",
       "8385   Super built-up  Area  Ready To Move                 Banaswadi  1 RK   \n",
       "10576        Built-up  Area  Ready To Move           Electronic City  1 RK   \n",
       "\n",
       "      total_sqft  bath  balcony  price  \n",
       "24           510   1.0      0.0  25.25  \n",
       "782          445   1.0      0.0  28.00  \n",
       "1363         510   1.0      1.0  25.25  \n",
       "2486         296   1.0      0.0  22.89  \n",
       "2557         351   1.0      1.0  16.00  \n",
       "2788         440   1.0      0.0  28.00  \n",
       "4876         435   1.0      1.0  19.50  \n",
       "5079         905   1.0      1.0  52.00  \n",
       "5285   385 - 440   1.0      0.0  19.80  \n",
       "6586         360   1.0      0.0  16.90  \n",
       "7638         670   1.0      1.0  50.00  \n",
       "8385         527   1.0      0.0  35.00  \n",
       "10576        550   1.0      1.0  27.00  "
      ]
     },
     "execution_count": 164,
     "metadata": {},
     "output_type": "execute_result"
    }
   ],
   "source": [
    "#Let's check record for 1 rk\n",
    "df[df['size']=='1 RK']"
   ]
  },
  {
   "cell_type": "code",
   "execution_count": 165,
   "metadata": {},
   "outputs": [],
   "source": [
    "#Let's replace 1room kitchen with 0 bedroom\n",
    "df['size']=df['size'].str.replace('1 RK','0 Bedroom')"
   ]
  },
  {
   "cell_type": "code",
   "execution_count": 166,
   "metadata": {},
   "outputs": [],
   "source": [
    "#Let's make size to be equivalent to number of bedrooms\n",
    "df['size']=df['size'].str.split(' ').str[0]"
   ]
  },
  {
   "cell_type": "code",
   "execution_count": 167,
   "metadata": {},
   "outputs": [],
   "source": [
    "df['size'].fillna(int(df['size'].median()),inplace=True)"
   ]
  },
  {
   "cell_type": "code",
   "execution_count": 168,
   "metadata": {},
   "outputs": [],
   "source": [
    "df['size']=df['size'].astype(int)"
   ]
  },
  {
   "cell_type": "code",
   "execution_count": 169,
   "metadata": {},
   "outputs": [
    {
     "data": {
      "text/plain": [
       "area_type         0\n",
       "availability      0\n",
       "location          1\n",
       "size              0\n",
       "total_sqft        0\n",
       "bath             73\n",
       "balcony         605\n",
       "price             0\n",
       "dtype: int64"
      ]
     },
     "execution_count": 169,
     "metadata": {},
     "output_type": "execute_result"
    }
   ],
   "source": [
    "df.isna().sum()"
   ]
  },
  {
   "cell_type": "markdown",
   "metadata": {},
   "source": [
    "### Handling location\n"
   ]
  },
  {
   "cell_type": "code",
   "execution_count": 170,
   "metadata": {},
   "outputs": [
    {
     "data": {
      "text/html": [
       "<div>\n",
       "<style scoped>\n",
       "    .dataframe tbody tr th:only-of-type {\n",
       "        vertical-align: middle;\n",
       "    }\n",
       "\n",
       "    .dataframe tbody tr th {\n",
       "        vertical-align: top;\n",
       "    }\n",
       "\n",
       "    .dataframe thead th {\n",
       "        text-align: right;\n",
       "    }\n",
       "</style>\n",
       "<table border=\"1\" class=\"dataframe\">\n",
       "  <thead>\n",
       "    <tr style=\"text-align: right;\">\n",
       "      <th></th>\n",
       "      <th>area_type</th>\n",
       "      <th>availability</th>\n",
       "      <th>location</th>\n",
       "      <th>size</th>\n",
       "      <th>total_sqft</th>\n",
       "      <th>bath</th>\n",
       "      <th>balcony</th>\n",
       "      <th>price</th>\n",
       "    </tr>\n",
       "  </thead>\n",
       "  <tbody>\n",
       "    <tr>\n",
       "      <th>568</th>\n",
       "      <td>Super built-up  Area</td>\n",
       "      <td>Ready To Move</td>\n",
       "      <td>NaN</td>\n",
       "      <td>3</td>\n",
       "      <td>1600</td>\n",
       "      <td>3.0</td>\n",
       "      <td>2.0</td>\n",
       "      <td>86.0</td>\n",
       "    </tr>\n",
       "  </tbody>\n",
       "</table>\n",
       "</div>"
      ],
      "text/plain": [
       "                area_type   availability location  size total_sqft  bath  \\\n",
       "568  Super built-up  Area  Ready To Move      NaN     3       1600   3.0   \n",
       "\n",
       "     balcony  price  \n",
       "568      2.0   86.0  "
      ]
     },
     "execution_count": 170,
     "metadata": {},
     "output_type": "execute_result"
    }
   ],
   "source": [
    "df[df['location'].isna()]"
   ]
  },
  {
   "cell_type": "code",
   "execution_count": 171,
   "metadata": {},
   "outputs": [],
   "source": [
    "#Let's remove the record\n",
    "df.drop(568,axis=0,inplace=True)"
   ]
  },
  {
   "cell_type": "code",
   "execution_count": 172,
   "metadata": {},
   "outputs": [
    {
     "data": {
      "text/plain": [
       "area_type         0\n",
       "availability      0\n",
       "location          0\n",
       "size              0\n",
       "total_sqft        0\n",
       "bath             73\n",
       "balcony         605\n",
       "price             0\n",
       "dtype: int64"
      ]
     },
     "execution_count": 172,
     "metadata": {},
     "output_type": "execute_result"
    }
   ],
   "source": [
    "df.isna().sum()"
   ]
  },
  {
   "cell_type": "markdown",
   "metadata": {},
   "source": [
    "### Handling Bath column"
   ]
  },
  {
   "cell_type": "code",
   "execution_count": 173,
   "metadata": {},
   "outputs": [
    {
     "data": {
      "text/plain": [
       "array([ 2.,  5.,  3.,  4.,  6.,  1.,  9., nan,  8.,  7., 11., 10., 14.,\n",
       "       27., 12., 16., 40., 15., 13., 18.])"
      ]
     },
     "execution_count": 173,
     "metadata": {},
     "output_type": "execute_result"
    }
   ],
   "source": [
    "df['bath'].unique()"
   ]
  },
  {
   "cell_type": "code",
   "execution_count": 174,
   "metadata": {},
   "outputs": [],
   "source": [
    "#Let's impute based on median\n",
    "df['bath'].fillna(int(df['bath'].median()),inplace=True)"
   ]
  },
  {
   "cell_type": "code",
   "execution_count": 175,
   "metadata": {},
   "outputs": [],
   "source": [
    "df['bath']=df['bath'].astype(int)"
   ]
  },
  {
   "cell_type": "code",
   "execution_count": 176,
   "metadata": {},
   "outputs": [
    {
     "data": {
      "text/plain": [
       "area_type         0\n",
       "availability      0\n",
       "location          0\n",
       "size              0\n",
       "total_sqft        0\n",
       "bath              0\n",
       "balcony         605\n",
       "price             0\n",
       "dtype: int64"
      ]
     },
     "execution_count": 176,
     "metadata": {},
     "output_type": "execute_result"
    }
   ],
   "source": [
    "df.isna().sum()"
   ]
  },
  {
   "cell_type": "markdown",
   "metadata": {},
   "source": [
    "### Handling balcony"
   ]
  },
  {
   "cell_type": "code",
   "execution_count": 177,
   "metadata": {},
   "outputs": [
    {
     "data": {
      "text/plain": [
       "array([ 1.,  3., nan,  2.,  0.])"
      ]
     },
     "execution_count": 177,
     "metadata": {},
     "output_type": "execute_result"
    }
   ],
   "source": [
    "df['balcony'].unique()"
   ]
  },
  {
   "cell_type": "code",
   "execution_count": 178,
   "metadata": {},
   "outputs": [],
   "source": [
    "#Let's impute based on median\n",
    "df['balcony'].fillna(int(df['balcony'].median()),inplace=True)"
   ]
  },
  {
   "cell_type": "code",
   "execution_count": 179,
   "metadata": {},
   "outputs": [
    {
     "data": {
      "text/plain": [
       "area_type       0\n",
       "availability    0\n",
       "location        0\n",
       "size            0\n",
       "total_sqft      0\n",
       "bath            0\n",
       "balcony         0\n",
       "price           0\n",
       "dtype: int64"
      ]
     },
     "execution_count": 179,
     "metadata": {},
     "output_type": "execute_result"
    }
   ],
   "source": [
    "df.isna().sum()"
   ]
  },
  {
   "cell_type": "code",
   "execution_count": 180,
   "metadata": {},
   "outputs": [],
   "source": [
    "#change datatyp to int\n",
    "df['balcony']=df['balcony'].astype(int)"
   ]
  },
  {
   "cell_type": "markdown",
   "metadata": {},
   "source": [
    "### Observations\n",
    "- Missing values has been handled"
   ]
  },
  {
   "cell_type": "markdown",
   "metadata": {},
   "source": [
    "### handling area_type"
   ]
  },
  {
   "cell_type": "code",
   "execution_count": 181,
   "metadata": {},
   "outputs": [
    {
     "data": {
      "text/plain": [
       "array(['Super built-up  Area', 'Plot  Area', 'Built-up  Area',\n",
       "       'Carpet  Area'], dtype=object)"
      ]
     },
     "execution_count": 181,
     "metadata": {},
     "output_type": "execute_result"
    }
   ],
   "source": [
    "df['area_type'].unique()"
   ]
  },
  {
   "cell_type": "code",
   "execution_count": 182,
   "metadata": {},
   "outputs": [],
   "source": [
    "#Let's encode with ordinal encoding\n",
    "from sklearn.preprocessing import OrdinalEncoder\n",
    "o_encoder=OrdinalEncoder(categories=[['Super built-up  Area','Built-up  Area','Carpet  Area', 'Plot  Area']])\n",
    "df['area_type_encoded']=o_encoder.fit_transform(df[['area_type']])"
   ]
  },
  {
   "cell_type": "code",
   "execution_count": 183,
   "metadata": {},
   "outputs": [],
   "source": [
    "#convert it into int type\n",
    "df['area_type_encoded']=df['area_type_encoded'].astype(int)"
   ]
  },
  {
   "cell_type": "markdown",
   "metadata": {},
   "source": [
    "### Handling availability"
   ]
  },
  {
   "cell_type": "code",
   "execution_count": 184,
   "metadata": {},
   "outputs": [
    {
     "data": {
      "text/plain": [
       "array(['19-Dec', 'Ready To Move', '18-May', '18-Feb', '18-Nov', '20-Dec',\n",
       "       '17-Oct', '21-Dec', '19-Sep', '20-Sep', '18-Mar', '20-Feb',\n",
       "       '18-Apr', '20-Aug', '18-Oct', '19-Mar', '17-Sep', '18-Dec',\n",
       "       '17-Aug', '19-Apr', '18-Jun', '22-Dec', '22-Jan', '18-Aug',\n",
       "       '19-Jan', '17-Jul', '18-Jul', '21-Jun', '20-May', '19-Aug',\n",
       "       '18-Sep', '17-May', '17-Jun', '21-May', '18-Jan', '20-Mar',\n",
       "       '17-Dec', '16-Mar', '19-Jun', '22-Jun', '19-Jul', '21-Feb',\n",
       "       'Immediate Possession', '19-May', '17-Nov', '20-Oct', '20-Jun',\n",
       "       '19-Feb', '21-Oct', '21-Jan', '17-Mar', '17-Apr', '22-May',\n",
       "       '19-Oct', '21-Jul', '21-Nov', '21-Mar', '16-Dec', '22-Mar',\n",
       "       '20-Jan', '21-Sep', '21-Aug', '14-Nov', '19-Nov', '15-Nov',\n",
       "       '16-Jul', '15-Jun', '17-Feb', '20-Nov', '20-Jul', '16-Sep',\n",
       "       '15-Oct', '15-Dec', '16-Oct', '22-Nov', '15-Aug', '17-Jan',\n",
       "       '16-Nov', '20-Apr', '16-Jan', '14-Jul'], dtype=object)"
      ]
     },
     "execution_count": 184,
     "metadata": {},
     "output_type": "execute_result"
    }
   ],
   "source": [
    "df['availability'].unique()"
   ]
  },
  {
   "cell_type": "markdown",
   "metadata": {},
   "source": [
    "### Observation\n",
    "- This is time dependent, so let's remove the column"
   ]
  },
  {
   "cell_type": "code",
   "execution_count": 185,
   "metadata": {},
   "outputs": [],
   "source": [
    "df.drop('availability',axis=1,inplace=True)"
   ]
  },
  {
   "cell_type": "markdown",
   "metadata": {},
   "source": [
    "### Handling location"
   ]
  },
  {
   "cell_type": "code",
   "execution_count": 186,
   "metadata": {},
   "outputs": [
    {
     "data": {
      "text/plain": [
       "1305"
      ]
     },
     "execution_count": 186,
     "metadata": {},
     "output_type": "execute_result"
    }
   ],
   "source": [
    "df['location'].nunique()"
   ]
  },
  {
   "cell_type": "code",
   "execution_count": 187,
   "metadata": {},
   "outputs": [],
   "source": [
    "#Let's label encodeit\n",
    "from sklearn.preprocessing import LabelEncoder\n",
    "l_encoder=LabelEncoder()\n",
    "df['location_encoded']=l_encoder.fit_transform(df['location'])"
   ]
  },
  {
   "cell_type": "markdown",
   "metadata": {},
   "source": [
    "### Handling total_sqft"
   ]
  },
  {
   "cell_type": "code",
   "execution_count": 188,
   "metadata": {},
   "outputs": [
    {
     "name": "stdout",
     "output_type": "stream",
     "text": [
      "2100 - 2850\n",
      "1330.74\n",
      "3010 - 3410\n",
      "2957 - 3450\n",
      "3067 - 8156\n",
      "1042 - 1105\n",
      "1563.05\n",
      "1145 - 1340\n",
      "1015 - 1540\n",
      "1520 - 1740\n",
      "2023.71\n",
      "1113.27\n",
      "34.46Sq. Meter\n",
      "1752.12\n",
      "1195 - 1440\n",
      "1200 - 2400\n",
      "4125Perch\n",
      "1120 - 1145\n",
      "4400 - 6640\n",
      "3090 - 5002\n",
      "4400 - 6800\n",
      "1160 - 1195\n",
      "1000Sq. Meter\n",
      "4000 - 5249\n",
      "1115 - 1130\n",
      "1100Sq. Yards\n",
      "520 - 645\n",
      "1000 - 1285\n",
      "3606 - 5091\n",
      "650 - 665\n",
      "633 - 666\n",
      "2112.95\n",
      "5.31Acres\n",
      "30Acres\n",
      "1445 - 1455\n",
      "884 - 1116\n",
      "850 - 1093\n",
      "1440 - 1884\n",
      "1558.67\n",
      "3467.86\n",
      "716Sq. Meter\n",
      "547.34 - 827.31\n",
      "804.1\n",
      "580 - 650\n",
      "3425 - 3435\n",
      "1269.72\n",
      "1804 - 2273\n",
      "3630 - 3800\n",
      "660 - 670\n",
      "1500Sq. Meter\n",
      "620 - 933\n",
      "142.61Sq. Meter\n",
      "2695 - 2940\n",
      "2000 - 5634\n",
      "1574Sq. Yards\n",
      "3450 - 3472\n",
      "2479.13\n",
      "2172.65\n",
      "581.91\n",
      "1250 - 1305\n",
      "670 - 980\n",
      "1005.03 - 1252.49\n",
      "1004 - 1204\n",
      "361.33Sq. Yards\n",
      "645 - 936\n",
      "2710 - 3360\n",
      "1452.55\n",
      "2249.81 - 4112.19\n",
      "3436 - 3643\n",
      "2830 - 2882\n",
      "596 - 804\n",
      "1776.42\n",
      "1255 - 1863\n",
      "1300 - 1405\n",
      "1500 - 2400\n",
      "117Sq. Yards\n",
      "934 - 1437\n",
      "980 - 1030\n",
      "1564 - 1850\n",
      "1452.19\n",
      "1446 - 1506\n",
      "1419.59\n",
      "461.82\n",
      "1070 - 1315\n",
      "3040Sq. Meter\n",
      "500Sq. Yards\n",
      "1020.07\n",
      "2806 - 3019\n",
      "613 - 648\n",
      "1430 - 1630\n",
      "1451.5\n",
      "704 - 730\n",
      "1584.01\n",
      "1205.47\n",
      "1482 - 1846\n",
      "1689.28\n",
      "2805 - 3565\n",
      "1819.18\n",
      "3293 - 5314\n",
      "1210 - 1477\n",
      "3369 - 3464\n",
      "1125 - 1500\n",
      "167Sq. Meter\n",
      "1076 - 1199\n",
      "381 - 535\n",
      "1627.86\n",
      "2215 - 2475\n",
      "524 - 894\n",
      "1369.1\n",
      "1053.4\n",
      "540 - 670\n",
      "315Sq. Yards\n",
      "1650 - 2538\n",
      "2725 - 3250\n",
      "1732.46\n",
      "910.2\n",
      "1974 - 2171\n",
      "2006.8\n",
      "888 - 1290\n",
      "1360 - 1890\n",
      "2466 - 2856\n",
      "660 - 700\n",
      "385 - 440\n",
      "2100 - 5405\n",
      "770 - 841\n",
      "3Cents\n",
      "1310 - 1615\n",
      "1113.12\n",
      "1782 - 2000\n",
      "1548.3\n",
      "1525.84\n",
      "188.89Sq. Yards\n",
      "1469 - 1766\n",
      "204Sq. Meter\n",
      "1255 - 1350\n",
      "870 - 1080\n",
      "45Sq. Yards\n",
      "2777.29\n",
      "133.3Sq. Yards\n",
      "1554.3\n",
      "3405.1\n",
      "2580 - 2591\n",
      "1652.5\n",
      "2563 - 2733\n",
      "605 - 624\n",
      "4260 - 4408\n",
      "1349 - 3324\n",
      "78.03Sq. Meter\n",
      "1208.51\n",
      "3300 - 3335\n",
      "1180 - 1630\n",
      "1660.4\n",
      "1365 - 1700\n",
      "3500 - 3600\n",
      "122Sq. Yards\n",
      "84.53Sq. Meter\n",
      "2.09Acres\n",
      "1482 - 1684\n",
      "981 - 1249\n",
      "1100 - 1225\n",
      "1565 - 1595\n",
      "24Guntha\n",
      "1270 - 1275\n",
      "840 - 1010\n",
      "697Sq. Meter\n",
      "655 - 742\n",
      "800 - 2660\n",
      "1107.83\n",
      "1408 - 1455\n",
      "4050 - 4075\n",
      "1266.67\n",
      "942 - 1117\n",
      "1777.26\n",
      "1750 - 2640\n",
      "1390 - 1600\n",
      "598 - 958\n",
      "1500Cents\n",
      "1567.2\n",
      "132Sq. Yards\n",
      "1691.2\n",
      "1010 - 1300\n",
      "2Acres\n",
      "3103 - 3890\n",
      "1450 - 1950\n",
      "2274.24\n",
      "1100Sq. Meter\n",
      "947.55\n",
      "15Acres\n",
      "3301.8\n",
      "1450 - 1595\n",
      "763 - 805\n",
      "3307 - 3464\n",
      "1.26Acres\n",
      "620 - 934\n",
      "1542.14\n",
      "2144.6\n",
      "2462 - 2467\n",
      "540 - 740\n",
      "1618 - 1929\n",
      "3508 - 4201\n",
      "4900 - 4940\n",
      "1610 - 1880\n",
      "755 - 770\n",
      "1181.7\n",
      "664 - 722\n",
      "151.11Sq. Yards\n",
      "700 - 900\n",
      "596 - 861\n",
      "1925 - 2680\n",
      "615 - 985\n",
      "540 - 565\n",
      "2087.01\n",
      "750 - 800\n",
      "1660 - 1805\n",
      "1719.3\n",
      "1410 - 1710\n",
      "1079 - 1183\n",
      "2800 - 2870\n",
      "1230 - 1290\n",
      "943 - 1220\n",
      "2041 - 2090\n",
      "1234.6\n",
      "1763.25\n",
      "527 - 639\n",
      "2249.81\n",
      "1Grounds\n",
      "1160 - 1315\n",
      "706 - 716\n",
      "2940Sq. Yards\n",
      "1791 - 4000\n",
      "45.06Sq. Meter\n",
      "799 - 803\n",
      "2470 - 2790\n",
      "783 - 943\n",
      "4500 - 5540\n",
      "2801.25\n",
      "1688.12\n",
      "1255 - 1375\n",
      "1733.5\n",
      "610 - 615\n",
      "854 - 960\n",
      "2650 - 2990\n",
      "1.25Acres\n",
      "86.72Sq. Meter\n",
      "1230 - 1490\n",
      "896.9\n",
      "660 - 780\n",
      "1626.6\n",
      "1150 - 1194\n",
      "684 - 810\n",
      "866.28\n",
      "1200 - 1800\n",
      "1510 - 1670\n",
      "1248.52\n",
      "1370.07\n",
      "1550 - 1590\n",
      "777.4\n",
      "1235 - 1410\n",
      "3484 - 3550\n",
      "1139.7\n",
      "38Guntha\n",
      "929 - 1078\n",
      "2150 - 2225\n",
      "1520 - 1759\n",
      "629 - 1026\n",
      "1215 - 1495\n",
      "6Acres\n",
      "1140 - 1250\n",
      "2400 - 2600\n",
      "1052 - 1322\n",
      "5666 - 5669\n",
      "2162.03\n",
      "2999.97\n",
      "1950.2\n",
      "712 - 938\n",
      "2171.66\n",
      "1783 - 1878\n",
      "120Sq. Yards\n",
      "24Sq. Meter\n",
      "2528 - 3188\n",
      "1623.29\n",
      "650 - 760\n",
      "1400 - 1421\n",
      "4000 - 4450\n",
      "142.84Sq. Meter\n",
      "300Sq. Yards\n",
      "1932.47\n",
      "2204 - 2362\n",
      "1437 - 1629\n",
      "850 - 1060\n",
      "1200 - 1470\n",
      "5665.84\n",
      "1331.95\n",
      "1020 - 1130\n",
      "1133 - 1384\n"
     ]
    }
   ],
   "source": [
    "for area in df['total_sqft'].unique():\n",
    "    if area.isnumeric():\n",
    "        pass\n",
    "    else:\n",
    "        print(area)\n",
    "        "
   ]
  },
  {
   "cell_type": "code",
   "execution_count": 189,
   "metadata": {},
   "outputs": [],
   "source": [
    "#There is a record with 3Cents as sqft. Let's remove it\n",
    "df.drop(df[df['total_sqft']=='3Cents'].index[0],axis=0,inplace=True)"
   ]
  },
  {
   "cell_type": "code",
   "execution_count": 190,
   "metadata": {},
   "outputs": [],
   "source": [
    "#There is a record with 1500Cents as sqft. Let's remove it\n",
    "df.drop(df[df['total_sqft']=='1500Cents'].index[0],axis=0,inplace=True)"
   ]
  },
  {
   "cell_type": "code",
   "execution_count": 191,
   "metadata": {},
   "outputs": [],
   "source": [
    "#Let's transform\n",
    "def into_sqft(value):\n",
    "    if value:\n",
    "        if '-' in value:\n",
    "            x=float(value.split('-')[0])\n",
    "            return str(x)\n",
    "        \n",
    "        if 'Perch' in value:\n",
    "            x=float(value.split('Perch')[0])\n",
    "            #1 perch is 272.25 ft\n",
    "            x=x*272.25\n",
    "            return str(x)\n",
    "        if 'Sq. Meter' in value:\n",
    "            x=float(value.split('Sq')[0])\n",
    "            #1 sq m is 10.7639\n",
    "            x=x*10.7639\n",
    "            return str(x)\n",
    "        \n",
    "        if 'Sq. Yards' in value:\n",
    "            x=float(value.split('Sq')[0])\n",
    "            #1 sq yard in 9\n",
    "            x=x*9\n",
    "            return str(x)\n",
    "        \n",
    "        if 'Acre' in value:\n",
    "            x=float(value.split('Acre')[0])\n",
    "            #1 acre in 9\n",
    "            x=x*9\n",
    "            return str(x)\n",
    "        \n",
    "        if 'Guntha' in value:\n",
    "            x=float(value.split('Guntha')[0])\n",
    "            #1 guntha is 1089 sqft\n",
    "            x=x*1089\n",
    "            return str(x)\n",
    "        \n",
    "        if 'Grounds' in value:\n",
    "            x=float(value.split('Grounds')[0])\n",
    "            #1 grounds is 2400sqft\n",
    "            x=x*2400\n",
    "            return str(x)\n",
    "        \n",
    "    return value\n",
    "        "
   ]
  },
  {
   "cell_type": "code",
   "execution_count": 192,
   "metadata": {},
   "outputs": [],
   "source": [
    "df['total_sqft']=df['total_sqft'].apply(lambda x: into_sqft(x))\n",
    "\n",
    "#There might \n",
    "#change type to int\n",
    "df['total_sqft']=df['total_sqft'].astype(float)"
   ]
  },
  {
   "cell_type": "code",
   "execution_count": 193,
   "metadata": {},
   "outputs": [
    {
     "data": {
      "text/plain": [
       "0        1056.0\n",
       "1        2600.0\n",
       "2        1440.0\n",
       "3        1521.0\n",
       "4        1200.0\n",
       "          ...  \n",
       "13314    1715.0\n",
       "13315    3453.0\n",
       "13316    3600.0\n",
       "13317    1141.0\n",
       "13318    4689.0\n",
       "Name: total_sqft, Length: 12788, dtype: float64"
      ]
     },
     "execution_count": 193,
     "metadata": {},
     "output_type": "execute_result"
    }
   ],
   "source": [
    "df['total_sqft']"
   ]
  },
  {
   "cell_type": "code",
   "execution_count": 194,
   "metadata": {},
   "outputs": [
    {
     "name": "stdout",
     "output_type": "stream",
     "text": [
      "<class 'pandas.core.frame.DataFrame'>\n",
      "Int64Index: 12788 entries, 0 to 13318\n",
      "Data columns (total 9 columns):\n",
      " #   Column             Non-Null Count  Dtype  \n",
      "---  ------             --------------  -----  \n",
      " 0   area_type          12788 non-null  object \n",
      " 1   location           12788 non-null  object \n",
      " 2   size               12788 non-null  int32  \n",
      " 3   total_sqft         12788 non-null  float64\n",
      " 4   bath               12788 non-null  int32  \n",
      " 5   balcony            12788 non-null  int32  \n",
      " 6   price              12788 non-null  float64\n",
      " 7   area_type_encoded  12788 non-null  int32  \n",
      " 8   location_encoded   12788 non-null  int32  \n",
      "dtypes: float64(2), int32(5), object(2)\n",
      "memory usage: 749.3+ KB\n"
     ]
    }
   ],
   "source": [
    "df.info()"
   ]
  },
  {
   "cell_type": "markdown",
   "metadata": {},
   "source": [
    "### Observation \n",
    "-Cleaning and encoding is complete"
   ]
  },
  {
   "cell_type": "code",
   "execution_count": 195,
   "metadata": {},
   "outputs": [
    {
     "data": {
      "text/plain": [
       "<AxesSubplot:>"
      ]
     },
     "execution_count": 195,
     "metadata": {},
     "output_type": "execute_result"
    },
    {
     "data": {
      "image/png": "[encoded data removed]",
      "text/plain": [
       "<Figure size 640x480 with 2 Axes>"
      ]
     },
     "metadata": {},
     "output_type": "display_data"
    }
   ],
   "source": [
    "#Let's check their collinearity\n",
    "sns.heatmap(df.corr(),annot=True,center=0.5)"
   ]
  },
  {
   "cell_type": "markdown",
   "metadata": {},
   "source": [
    "### observation\n",
    "- Not many columns are collinear with price.\n",
    "- Let's consider size,area_type,bath,balcony"
   ]
  },
  {
   "cell_type": "code",
   "execution_count": 196,
   "metadata": {},
   "outputs": [],
   "source": [
    "X=df[['size', 'bath', 'balcony','area_type_encoded',]]\n",
    "y=df['price']\n"
   ]
  },
  {
   "cell_type": "code",
   "execution_count": 197,
   "metadata": {},
   "outputs": [
    {
     "name": "stdout",
     "output_type": "stream",
     "text": [
      "(12788, 4) (12788,)\n"
     ]
    }
   ],
   "source": [
    "print(X.shape,y.shape)"
   ]
  },
  {
   "cell_type": "markdown",
   "metadata": {},
   "source": [
    "## Scaling"
   ]
  },
  {
   "cell_type": "code",
   "execution_count": 198,
   "metadata": {},
   "outputs": [
    {
     "data": {
      "text/plain": [
       "(12788, 4)"
      ]
     },
     "execution_count": 198,
     "metadata": {},
     "output_type": "execute_result"
    }
   ],
   "source": [
    "#using unit vectorization\n",
    "from sklearn.preprocessing import normalize\n",
    "X_scaled=normalize(X)\n",
    "X_scaled.shape"
   ]
  },
  {
   "cell_type": "markdown",
   "metadata": {},
   "source": [
    "## split the data\n"
   ]
  },
  {
   "cell_type": "code",
   "execution_count": 199,
   "metadata": {},
   "outputs": [],
   "source": [
    "from sklearn.model_selection import train_test_split\n",
    "X_train,X_test,y_train,y_test=train_test_split(X_scaled,y,test_size=0.3)\n"
   ]
  },
  {
   "cell_type": "code",
   "execution_count": 200,
   "metadata": {},
   "outputs": [
    {
     "name": "stdout",
     "output_type": "stream",
     "text": [
      "(8951, 4) (8951,)\n"
     ]
    }
   ],
   "source": [
    "print(X_train.shape,y_train.shape)"
   ]
  },
  {
   "cell_type": "markdown",
   "metadata": {},
   "source": [
    "## Hyper parameter Tuning"
   ]
  },
  {
   "cell_type": "code",
   "execution_count": 201,
   "metadata": {},
   "outputs": [],
   "source": [
    "parameters={ 'C':[1,10,100],\n",
    "            'kernel':['linear', 'poly', 'rbf', 'sigmoid'],\n",
    "            'gamma':['scale','auto'],\n",
    "            'epsilon':[1,100,200]\n",
    "}\n",
    "\n"
   ]
  },
  {
   "cell_type": "code",
   "execution_count": 202,
   "metadata": {},
   "outputs": [],
   "source": [
    "from sklearn.svm import SVR\n",
    "regressor=SVR()"
   ]
  },
  {
   "cell_type": "code",
   "execution_count": 203,
   "metadata": {},
   "outputs": [],
   "source": [
    "from sklearn.model_selection import GridSearchCV\n",
    "grid=GridSearchCV(regressor,param_grid=parameters,scoring='r2',n_jobs=-1,cv=5,verbose=100)"
   ]
  },
  {
   "cell_type": "code",
   "execution_count": 205,
   "metadata": {},
   "outputs": [
    {
     "data": {
      "text/plain": [
       "SVR(C=100, epsilon=100)"
      ]
     },
     "execution_count": 205,
     "metadata": {},
     "output_type": "execute_result"
    }
   ],
   "source": [
    "#Let's make the model\n",
    "regressor=SVR(C=100,epsilon=100,gamma='scale',kernel='rbf')\n",
    "regressor.fit(X_train,y_train)"
   ]
  },
  {
   "cell_type": "code",
   "execution_count": 206,
   "metadata": {},
   "outputs": [
    {
     "name": "stdout",
     "output_type": "stream",
     "text": [
      "78.84002447881556\n",
      "18959.042418111432\n",
      "0.07756672785445273\n"
     ]
    }
   ],
   "source": [
    "from sklearn.metrics import mean_absolute_error,mean_squared_error,r2_score\n",
    "print(mean_absolute_error(y_test,regressor.predict(X_test)))\n",
    "print(mean_squared_error(y_test,regressor.predict(X_test)))\n",
    "print(r2_score(y_test,regressor.predict(X_test)))"
   ]
  },
  {
   "cell_type": "markdown",
   "metadata": {},
   "source": [
    "When developing an SVM (Support Vector Machine) regression model to predict house prices based on several characteristics, the choice of a regression metric depends on your specific objectives and the nature of your dataset. Some common regression metrics include:\n",
    "\n",
    "1. **Mean Absolute Error (MAE)**:\n",
    "   - MAE measures the average absolute difference between the predicted and actual values. It provides a straightforward interpretation as the average dollar amount by which your predictions are off.\n",
    "   - MAE is suitable when you want a metric that is robust to outliers and provides a clear, understandable measure of prediction error in the same units as the target variable (e.g., dollars for house prices).\n",
    "\n",
    "2. **Mean Squared Error (MSE)**:\n",
    "   - MSE measures the average squared difference between the predicted and actual values. It punishes larger errors more than MAE because it squares the differences.\n",
    "   - MSE is commonly used and has some mathematical advantages, but it might not be as interpretable as MAE since it's not in the same units as the target variable.\n",
    "\n",
    "3. **Root Mean Squared Error (RMSE)**:\n",
    "   - RMSE is the square root of MSE. It has the advantage of being in the same units as the target variable, making it more interpretable.\n",
    "   - RMSE is widely used and provides a good balance between MSE and MAE.\n",
    "\n",
    "4. **R-squared (R2) Score**:\n",
    "   - R2 measures the proportion of the variance in the target variable that is explained by the model. A higher R2 indicates a better fit.\n",
    "   - R2 is useful when you want to understand how well your features explain the variability in house prices. However, it doesn't provide a direct measure of prediction accuracy.\n",
    "\n",
    "The best regression metric for your situation depends on your specific goals and the characteristics of your dataset. Here are some considerations:\n",
    "\n",
    "- **MAE or RMSE** might be preferred if you want easily interpretable metrics in the same units as house prices and you want to understand the typical prediction error.\n",
    "\n",
    "- **MSE or RMSE** might be appropriate if you want a metric that penalizes larger errors more heavily and are not concerned about the interpretability of the metric.\n",
    "\n",
    "- **R2** is useful for understanding how well your features explain the variance in house prices but doesn't provide direct information about prediction accuracy. It's often used in combination with other metrics.\n",
    "\n",
    "It's a good practice to consider multiple metrics when evaluating your regression model to get a more comprehensive view of its performance. Choose the metric that aligns with your specific objectives and interpretability requirements."
   ]
  },
  {
   "cell_type": "markdown",
   "metadata": {},
   "source": [
    "Q2\n",
    "\n",
    "If your primary goal is to predict the actual price of a house as accurately as possible, then using the **Mean Squared Error (MSE)** would be the more appropriate evaluation metric.\n",
    "\n",
    "Here's why:\n",
    "\n",
    "- **MSE** directly measures the average squared difference between your predicted prices and the actual prices. It punishes larger errors more severely because it squares the differences. This means that the model is penalized for both underestimating and overestimating the house prices.\n",
    "\n",
    "- The goal in regression is typically to minimize prediction error. MSE provides a direct measure of the average prediction error in the same units as the target variable (i.e., dollars in the case of house prices). Therefore, minimizing the MSE implies that you are striving to make your predictions as close as possible to the actual prices.\n",
    "\n",
    "- When your primary goal is prediction accuracy, you want a metric that focuses on how well your model's predictions align with the true values, and MSE serves this purpose. Lower MSE values indicate a better fit and a more accurate model.\n",
    "\n",
    "While **R-squared (R2)** is a valuable metric for understanding how well your features explain the variance in the target variable, it doesn't provide a direct measure of prediction accuracy. R2 is more suited for assessing the quality of the model in terms of feature selection and model fit. Therefore, when the main objective is prediction accuracy, MSE is a more appropriate choice as the evaluation metric."
   ]
  },
  {
   "cell_type": "markdown",
   "metadata": {},
   "source": [
    "Q3\n",
    "\n",
    "When you have a dataset with a significant number of outliers, the most appropriate regression metric to use with your SVM model is the **Mean Absolute Error (MAE)**.\n",
    "\n",
    "Here's why MAE is a good choice in this scenario:\n",
    "\n",
    "1. **Robustness to Outliers**:\n",
    "   MAE is robust to outliers because it measures the average absolute difference between the predicted and actual values. It doesn't square the differences like Mean Squared Error (MSE) or Root Mean Squared Error (RMSE), which means that it doesn't excessively penalize large errors caused by outliers.\n",
    "\n",
    "2. **Outlier-Resistant**:\n",
    "   Unlike MSE and RMSE, which can be heavily influenced by a few extreme outlier values, MAE treats all errors, including those caused by outliers, with equal weight. This is valuable when you have a dataset with a significant number of outliers.\n",
    "\n",
    "3. **Interpretability**:\n",
    "   MAE provides a straightforward and interpretable measure of the typical prediction error in the same units as the target variable. This makes it easier to understand and explain the model's performance.\n",
    "\n",
    "While MAE is robust to outliers, it's still essential to be cautious when working with datasets that have significant outliers. You may also consider outlier detection and handling techniques to address the presence of outliers before applying the regression model, but using MAE as the evaluation metric is a good choice to focus on prediction accuracy without being overly influenced by extreme values."
   ]
  },
  {
   "cell_type": "markdown",
   "metadata": {},
   "source": [
    "Q4\n",
    "\n",
    "If you have built an SVM regression model using a polynomial kernel and have calculated both the **Mean Squared Error (MSE)** and the **Root Mean Squared Error (RMSE)**, and you find that both values are very close, you can choose either metric based on your preference. In this scenario, the choice between MSE and RMSE won't significantly impact the evaluation of your model. Here's a brief overview of both:\n",
    "\n",
    "- **MSE** measures the average squared difference between the predicted and actual values. It provides a measure of prediction accuracy, and smaller values indicate better fit. However, MSE is not in the same units as the target variable.\n",
    "\n",
    "- **RMSE** is the square root of MSE. It is often chosen over MSE because it is in the same units as the target variable, making it more interpretable. Like MSE, smaller RMSE values indicate better fit.\n",
    "\n",
    "Since the two metrics are very close and will likely provide similar insights into your model's performance, you can select RMSE if you prefer a metric that is in the same units as the target variable and is more interpretable. Alternatively, you can choose MSE if you are comfortable working with squared error values and you don't require the interpretation benefits of RMSE.\n",
    "\n",
    "Ultimately, the choice between MSE and RMSE in this case is a matter of personal preference, and both metrics are suitable for evaluating the performance of your SVM regression model."
   ]
  },
  {
   "cell_type": "markdown",
   "metadata": {},
   "source": [
    "Q5\n",
    "\n",
    "If your goal is to measure how well SVM regression models with different kernels explain the variance in the target variable, the most appropriate evaluation metric is the **R-squared (R2) score**.\n",
    "\n",
    "Here's why the R2 score is a good choice in this context:\n",
    "\n",
    "- **Measures Variance Explained**: R2 measures the proportion of the variance in the target variable that is explained by the model. A higher R2 indicates that a larger portion of the variance is explained by the model.\n",
    "\n",
    "- **Interpretability**: R2 is easy to interpret. An R2 of 1.0 means that the model perfectly explains the variance, while an R2 of 0.0 means that the model doesn't explain any of the variance beyond the mean of the target variable.\n",
    "\n",
    "- **Applicability Across Different Kernels**: R2 is a versatile metric that can be used to compare models with different kernels (linear, polynomial, RBF) and assess their ability to explain variance in the target variable consistently.\n",
    "\n",
    "To evaluate the models based on their ability to explain variance, you can calculate the R2 score for each model and compare the scores. The model with the highest R2 score will be the one that best explains the variance in the target variable among the models you are comparing."
   ]
  },
  {
   "cell_type": "code",
   "execution_count": null,
   "metadata": {},
   "outputs": [],
   "source": []
  }
 ],
 "metadata": {
  "kernelspec": {
   "display_name": "Python 3 (ipykernel)",
   "language": "python",
   "name": "python3"
  },
  "language_info": {
   "codemirror_mode": {
    "name": "ipython",
    "version": 3
   },
   "file_extension": ".py",
   "mimetype": "text/x-python",
   "name": "python",
   "nbconvert_exporter": "python",
   "pygments_lexer": "ipython3",
   "version": "3.9.13"
  }
 },
 "nbformat": 4,
 "nbformat_minor": 2
}

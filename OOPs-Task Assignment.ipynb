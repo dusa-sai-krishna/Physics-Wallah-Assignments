{
 "cells": [
  {
   "attachments": {},
   "cell_type": "markdown",
   "metadata": {},
   "source": [
    "Q1"
   ]
  },
  {
   "cell_type": "code",
   "execution_count": 2,
   "metadata": {},
   "outputs": [
    {
     "name": "stdout",
     "output_type": "stream",
     "text": [
      "Maruti Susuzki Dzire\n",
      "180\n",
      "20\n"
     ]
    }
   ],
   "source": [
    "class Vehicle:\n",
    "    def __init__(self,name_of_vehicle,max_speed,average_of_vehicle):\n",
    "        self.name_of_vehicle=name_of_vehicle\n",
    "        self.max_speed=max_speed\n",
    "        self.average_of_vehicle=average_of_vehicle\n",
    "        \n",
    "    def printProperties(self):\n",
    "        print(self.name_of_vehicle)\n",
    "        print(self.max_speed)\n",
    "        print(self.average_of_vehicle)\n",
    "\n",
    "#DriverCode\n",
    "dzire=Vehicle('Maruti Susuzki Dzire',180,20)\n",
    "dzire.printProperties()"
   ]
  },
  {
   "attachments": {},
   "cell_type": "markdown",
   "metadata": {},
   "source": [
    "Q2"
   ]
  },
  {
   "cell_type": "code",
   "execution_count": 3,
   "metadata": {},
   "outputs": [
    {
     "name": "stdout",
     "output_type": "stream",
     "text": [
      "The vehicle Creta has 3 seating capacity\n"
     ]
    }
   ],
   "source": [
    "class Car(Vehicle):\n",
    "    def __init__(self, name_of_vehicle):\n",
    "        Vehicle.name_of_vehicle=name_of_vehicle\n",
    "    \n",
    "    def seating_capacity(self):\n",
    "        capacity=int(input('Enter the capacity:'))\n",
    "        print('The vehicle {} has {} seating capacity'.format(Vehicle.name_of_vehicle,capacity))\n",
    "        \n",
    "#drivercode\n",
    "creta=Car('Creta')\n",
    "creta.seating_capacity()"
   ]
  },
  {
   "attachments": {},
   "cell_type": "markdown",
   "metadata": {},
   "source": [
    "Q3"
   ]
  },
  {
   "cell_type": "code",
   "execution_count": 4,
   "metadata": {},
   "outputs": [
    {
     "name": "stdout",
     "output_type": "stream",
     "text": [
      "Mammals can give direct birth.\n",
      "Winged animals can flap.\n"
     ]
    }
   ],
   "source": [
    "class Mammal:\n",
    "    def mammal_info(self):\n",
    "        print(\"Mammals can give direct birth.\")\n",
    "\n",
    "class WingedAnimal:\n",
    "    def winged_animal_info(self):\n",
    "        print(\"Winged animals can flap.\")\n",
    "\n",
    "class Bat(Mammal, WingedAnimal):\n",
    "    pass\n",
    "\n",
    "# create an object of Bat class\n",
    "b1 = Bat()\n",
    "\n",
    "b1.mammal_info()\n",
    "b1.winged_animal_info()"
   ]
  },
  {
   "attachments": {},
   "cell_type": "markdown",
   "metadata": {},
   "source": [
    "Q4"
   ]
  },
  {
   "attachments": {},
   "cell_type": "markdown",
   "metadata": {},
   "source": [
    "Getter methods are used to retrive or access attributes or methods which are private or protected.\n",
    "Setter methods are used to set or modify value of those attributes.\n",
    "Getter and Setter methods are used in unison for data encapsulation. If a user wants to access or modify attributes then he must go throught these methods. Thus utilizing getter and setter methods improves security."
   ]
  },
  {
   "cell_type": "code",
   "execution_count": 5,
   "metadata": {},
   "outputs": [
    {
     "name": "stdout",
     "output_type": "stream",
     "text": [
      "100\n",
      "1000\n"
     ]
    }
   ],
   "source": [
    "class Account:\n",
    "    def __init__(self,amount):\n",
    "        self.__amount=amount\n",
    "        \n",
    "    def get_amount(self):\n",
    "        return self.__amount\n",
    "    def set_amount(self,value):\n",
    "        if value>0:\n",
    "            self.__amount=value\n",
    "            return self.__amount\n",
    "        else:\n",
    "            print('Invalid entry')\n",
    "            \n",
    "            \n",
    "#DriverCode\n",
    "dusa=Account(100)\n",
    "print(dusa.get_amount())\n",
    "print(dusa.set_amount(1000))\n",
    "\n",
    "\n"
   ]
  },
  {
   "attachments": {},
   "cell_type": "markdown",
   "metadata": {},
   "source": [
    "Q5"
   ]
  },
  {
   "attachments": {},
   "cell_type": "markdown",
   "metadata": {},
   "source": [
    "Method Overriding refers to complie time polymorphism. Let there be two classes A and B. Let there be same method 'add' in both of them. Here the method add have same return type and same number of parameters in both clases. But the implementation is different."
   ]
  },
  {
   "cell_type": "code",
   "execution_count": 6,
   "metadata": {},
   "outputs": [
    {
     "data": {
      "text/plain": [
       "'HI'"
      ]
     },
     "execution_count": 6,
     "metadata": {},
     "output_type": "execute_result"
    }
   ],
   "source": [
    "class Operations:\n",
    "    def __init__(self,a,b):\n",
    "        self.a=a\n",
    "        self.b=b\n",
    "        \n",
    "    def sum(self):\n",
    "        return self.a+self.b\n",
    "    \n",
    "    \n",
    "class Stringops(Operations):\n",
    "    def __init__(self, a, b):\n",
    "        super().__init__(a, b)\n",
    "        \n",
    "    def sum(self):\n",
    "        return self.a+self.b\n",
    "    \n",
    "    \n",
    "#DriverCode\n",
    "string=Stringops('H','I')\n",
    "string.sum()\n",
    "\n",
    "        \n",
    "        "
   ]
  },
  {
   "cell_type": "code",
   "execution_count": null,
   "metadata": {},
   "outputs": [],
   "source": []
  }
 ],
 "metadata": {
  "kernelspec": {
   "display_name": "base",
   "language": "python",
   "name": "python3"
  },
  "language_info": {
   "codemirror_mode": {
    "name": "ipython",
    "version": 3
   },
   "file_extension": ".py",
   "mimetype": "text/x-python",
   "name": "python",
   "nbconvert_exporter": "python",
   "pygments_lexer": "ipython3",
   "version": "3.9.13"
  },
  "orig_nbformat": 4
 },
 "nbformat": 4,
 "nbformat_minor": 2
}

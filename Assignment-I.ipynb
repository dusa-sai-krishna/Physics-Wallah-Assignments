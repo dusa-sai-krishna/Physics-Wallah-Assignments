{
 "cells": [
  {
   "cell_type": "markdown",
   "metadata": {},
   "source": [
    "Q1 \n",
    "\n",
    "Artificial Intelligence is a smart application which can perform it's tasks without human intervention. Eg: Self driving cars, Robots.\n",
    "\n",
    "Machine Learning is a subset of Artificial Intelligence. It provides statistic tools to create predictive models.\n",
    "\n",
    "Deep Learning is a subset of Machine Learning. It tries to mimic human brain. Mainly using neural networks\n",
    "Eg:Object and Image Detection, ChatBot."
   ]
  },
  {
   "cell_type": "markdown",
   "metadata": {},
   "source": [
    "Q2\n",
    "\n",
    "Supervised learning is a type of machine learning where the algorithm is trained on a labeled dataset, which means it learns from input-output pairs. In other words, the algorithm learns to make predictions or classify data based on examples it has seen in the training data.\n",
    "\n",
    "**Example:** \n",
    "\n",
    "Imagine you want to build a spam email filter. In supervised learning, you would provide the algorithm with a dataset of emails where each email is labeled as either \"spam\" or \"not spam.\" The algorithm learns to recognize patterns in the email content, sender information, and other features, allowing it to make predictions about whether new, unseen emails are spam or not based on the patterns it has learned from the labeled dataset."
   ]
  },
  {
   "cell_type": "markdown",
   "metadata": {},
   "source": [
    "Q3\n",
    "\n",
    "Unsupervised learning is a type of machine learning where the algorithm is given a dataset without labeled outcomes or targets. The goal is for the algorithm to find patterns, structure, or relationships within the data on its own, without specific guidance.\n",
    "\n",
    "**Example:**\n",
    "\n",
    "Clustering is a common task in unsupervised learning. Let's say you have a dataset of customer purchase history, but you don't have any labels indicating customer preferences or segments. In unsupervised learning, the algorithm could be used to group similar customers together based on their purchasing behavior. It might discover that some customers tend to buy electronics, while others prefer clothing, without being explicitly told which customers belong to each group. This clustering can then be used for targeted marketing or recommendations."
   ]
  },
  {
   "cell_type": "markdown",
   "metadata": {},
   "source": [
    "Q4\n",
    "\n",
    "- **AI (Artificial Intelligence):** AI is a broad field of computer science focused on creating machines or software that can perform tasks that typically require human intelligence, such as problem-solving, decision-making, understanding natural language, and learning from data.\n",
    "\n",
    "- **ML (Machine Learning):** ML is a subset of AI that involves the development of algorithms and models that enable computers to learn from and make predictions or decisions based on data without being explicitly programmed. It's about creating self-improving systems.\n",
    "\n",
    "- **DL (Deep Learning):** DL is a subfield of ML that focuses on neural networks with many layers (deep neural networks). Deep learning has been highly successful in tasks like image and speech recognition, and it's a key technology behind many AI applications.\n",
    "\n",
    "- **DS (Data Science):** DS is a multidisciplinary field that involves extracting insights and knowledge from data. It encompasses various techniques, including data analysis, statistics, ML, and domain expertise, to solve complex problems and make data-driven decisions.\n",
    "\n"
   ]
  },
  {
   "cell_type": "markdown",
   "metadata": {},
   "source": [
    "Q5\n",
    "\n",
    "The main differences between supervised, unsupervised, and semi-supervised learning lie in how they utilize labeled data and their objectives:\n",
    "\n",
    "1. **Supervised Learning:**\n",
    "   - **Data Type:** Requires a labeled dataset, where input data is paired with corresponding target labels or outcomes.\n",
    "   - **Objective:** Learns to make predictions or classify data based on the labeled examples in the training set.\n",
    "   - **Example:** Email spam classification, where the algorithm is trained on a dataset of emails labeled as \"spam\" or \"not spam\" to predict the class of new, unseen emails.\n",
    "\n",
    "2. **Unsupervised Learning:**\n",
    "   - **Data Type:** Utilizes an unlabeled dataset, meaning there are no predefined target labels or outcomes.\n",
    "   - **Objective:** Focuses on discovering patterns, relationships, or structure within the data, often through techniques like clustering and dimensionality reduction.\n",
    "   - **Example:** Customer segmentation, where the algorithm groups similar customers together based on their behavior or characteristics without being given specific labels.\n",
    "\n",
    "3. **Semi-Supervised Learning:**\n",
    "   - **Data Type:** Combines both labeled and unlabeled data in the training set.\n",
    "   - **Objective:** Uses the labeled data for supervised learning tasks but can also leverage the unlabeled data to improve performance by incorporating additional information.\n",
    "   - **Example:** In a medical diagnosis system, you might have a limited set of labeled patient records (e.g., \"healthy\" or \"disease\"), but a much larger pool of unlabeled patient data. Semi-supervised learning can use both to improve accuracy.\n",
    "\n"
   ]
  },
  {
   "cell_type": "markdown",
   "metadata": {},
   "source": [
    "Q6\n",
    "\n",
    "1. **Training Data:** This is a subset of the dataset used to train the machine learning model. The model learns patterns and relationships in the data from the training set.\n",
    "\n",
    "2. **Testing Data:** This is a separate subset of the dataset that the model has not seen during training. It's used to evaluate the model's performance and measure how well it generalizes to new, unseen data.\n",
    "\n",
    "3. **Validation Data:** In addition to the training and testing data, some datasets also include a validation set. This is used during model development and hyperparameter tuning to assess the model's performance on data that it hasn't been trained on. It helps in making adjustments to the model to improve its generalization.\n",
    "\n",
    "**Importance:**\n",
    "\n",
    "- **Training Data:** It is essential for teaching the model to recognize patterns and make predictions. The model adjusts its parameters to minimize errors on this data, aiming to capture the underlying relationships in the dataset.\n",
    "\n",
    "- **Testing Data:** This is crucial for evaluating how well the model generalizes to new, unseen data. It helps assess the model's performance, accuracy, and whether it's overfitting (performing well on the training data but poorly on new data) or underfitting (not capturing the data's patterns).\n",
    "\n",
    "- **Validation Data:** Validation data is valuable during the model development phase. It helps in fine-tuning the model and selecting the best hyperparameters to achieve optimal performance on unseen data. It prevents \"leakage\" of information from the testing data into the model during development.\n"
   ]
  },
  {
   "cell_type": "markdown",
   "metadata": {},
   "source": [
    "Q7\n",
    "\n",
    "Unsupervised learning can be used for anomaly detection by training a model on a dataset without labeled anomalies. The model learns the normal patterns or structures within the data, and during testing, it identifies instances that deviate significantly from these learned patterns as anomalies. Clustering algorithms like K-means or density-based methods like DBSCAN can be effective for this purpose. Any data points that do not fit well into the established clusters or patterns are considered anomalies."
   ]
  },
  {
   "cell_type": "markdown",
   "metadata": {},
   "source": [
    "Q8\n",
    "\n",
    "    Certainly! Here are some commonly used supervised and unsupervised learning algorithms:\n",
    "\n",
    "**Supervised Learning Algorithms:**\n",
    "\n",
    "1. **Linear Regression:** Used for predicting a continuous target variable based on input features.\n",
    "\n",
    "2. **Logistic Regression:** Used for binary classification problems, such as spam detection.\n",
    "\n",
    "3. **Decision Trees:** A versatile algorithm used for classification and regression tasks.\n",
    "\n",
    "4. **Random Forest:** An ensemble method that combines multiple decision trees for improved accuracy.\n",
    "\n",
    "5. **Support Vector Machines (SVM):** Effective for classification tasks, particularly when dealing with complex decision boundaries.\n",
    "\n",
    "6. **K-Nearest Neighbors (KNN):** Classifies data points based on the majority class among their nearest neighbors.\n",
    "\n",
    "7. **Naive Bayes:** Commonly used for text classification and spam filtering.\n",
    "\n",
    "8. **Gradient Boosting Algorithms (e.g., XGBoost, LightGBM):** Ensemble methods that iteratively improve model performance.\n",
    "\n",
    "**Unsupervised Learning Algorithms:**\n",
    "\n",
    "1. **K-Means Clustering:** Divides data into clusters based on similarity, with a specified number of clusters (K).\n",
    "\n",
    "2. **Hierarchical Clustering:** Builds a tree-like structure of clusters, allowing for various levels of granularity.\n",
    "\n",
    "3. **DBSCAN (Density-Based Spatial Clustering of Applications with Noise):** Identifies clusters of varying shapes and densities in the data.\n",
    "\n",
    "4. **Principal Component Analysis (PCA):** Reduces the dimensionality of data while preserving important features.\n",
    "\n",
    "5. **Independent Component Analysis (ICA):** Separates a multivariate signal into additive, independent components.\n",
    "\n",
    "6. **Autoencoders:** Neural network-based approach used for feature learning and dimensionality reduction.\n",
    "\n",
    "7. **Gaussian Mixture Models (GMM):** Represents data as a mixture of several Gaussian distributions.\n",
    "\n",
    "8. **t-Distributed Stochastic Neighbor Embedding (t-SNE):** Used for visualization and reducing high-dimensional data to a lower dimension.\n",
    "\n"
   ]
  },
  {
   "cell_type": "code",
   "execution_count": null,
   "metadata": {},
   "outputs": [],
   "source": []
  }
 ],
 "metadata": {
  "language_info": {
   "name": "python"
  },
  "orig_nbformat": 4
 },
 "nbformat": 4,
 "nbformat_minor": 2
}

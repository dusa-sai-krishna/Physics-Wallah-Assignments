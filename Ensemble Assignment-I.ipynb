{
 "cells": [
  {
   "cell_type": "markdown",
   "metadata": {},
   "source": [
    "Q1\n",
    "\n",
    "Ensemble techniques in machine learning combine multiple models to enhance predictive accuracy and reduce overfitting."
   ]
  },
  {
   "cell_type": "markdown",
   "metadata": {},
   "source": [
    "Q2\n",
    "\n",
    "Ensemble techniques are used in machine learning to improve predictive performance by combining the strengths of multiple models, reducing overfitting, increasing robustness, and enhancing overall accuracy."
   ]
  },
  {
   "cell_type": "markdown",
   "metadata": {},
   "source": [
    "Q3\n",
    "\n",
    "Bagging (Bootstrap Aggregating) is an ensemble technique that involves training multiple instances of the same model with different subsets of the training data, then combining their predictions to reduce variance and improve accuracy.\n"
   ]
  },
  {
   "cell_type": "markdown",
   "metadata": {},
   "source": [
    "Q4\n",
    "\n",
    "Boosting is an ensemble technique that combines multiple weak models into a strong model by giving more weight to misclassified instances in successive iterations, improving overall predictive performance."
   ]
  },
  {
   "cell_type": "markdown",
   "metadata": {},
   "source": [
    "Q5\n",
    "\n",
    "Ensemble techniques offer benefits such as improved predictive accuracy, reduced overfitting, increased model robustness, and enhanced generalization."
   ]
  },
  {
   "cell_type": "markdown",
   "metadata": {},
   "source": [
    "Q6\n",
    "\n",
    "Ensemble techniques are often better than individual models, but their effectiveness can vary depending on the problem and data. In some cases, a single well-tuned model might perform equally well."
   ]
  },
  {
   "cell_type": "markdown",
   "metadata": {},
   "source": [
    "\n",
    "Q7\n",
    "\n",
    "The confidence interval using bootstrap is calculated by repeatedly resampling your dataset with replacement to create multiple \"bootstrap samples.\" Then, you compute the statistic (e.g., mean, median) of interest for each bootstrap sample. Finally, you determine the lower and upper percentiles of the distribution of these statistics to create the confidence interval, typically the 95% confidence interval corresponds to the 2.5th and 97.5th percentiles."
   ]
  },
  {
   "cell_type": "markdown",
   "metadata": {},
   "source": [
    "Q8\n",
    "\n",
    "1. **Resampling:** Randomly select n data points (with replacement) from your original dataset to create a resampled dataset. This resampling process is done iteratively, usually for a large number of iterations.\n",
    "\n",
    "2. **Statistics Calculation:** Calculate the statistic of interest (e.g., mean, median, standard deviation) on each resampled dataset.\n",
    "\n",
    "3. **Repetition:** Repeat steps 1 and 2 a large number of times (e.g., 1,000 or 10,000) to create a distribution of statistics.\n",
    "\n",
    "4. **Confidence Interval:** Determine the lower and upper percentiles of the distribution of statistics (e.g., 2.5th and 97.5th percentiles for a 95% confidence interval) to create the confidence interval for the statistic.\n",
    "\n",
    "The resulting confidence interval provides an estimate of the population parameter (e.g., mean) and its level of uncertainty. Bootstrap is a powerful technique for estimating sampling distributions and constructing confidence intervals when assumptions about the data distribution are unclear or violated."
   ]
  },
  {
   "cell_type": "markdown",
   "metadata": {},
   "source": [
    "Q6\n",
    "To estimate the 95% confidence interval for the population mean height using bootstrap, you can follow these steps:\n",
    "\n",
    "1. **Collect Your Sample Data:** You have already collected a sample of 50 trees with a mean height of 15 meters and a standard deviation of 2 meters.\n",
    "\n",
    "2. **Resampling:** Perform bootstrap resampling. Randomly select 50 data points (tree heights) from your original sample with replacement to create a resampled dataset. Do this process a large number of times (e.g., 10,000 iterations).\n",
    "\n",
    "3. **Statistic Calculation:** For each resampled dataset, calculate the mean height.\n",
    "\n",
    "4. **Create the Confidence Interval:** Determine the 2.5th and 97.5th percentiles of the distribution of mean heights. These percentiles represent the lower and upper bounds of the 95% confidence interval.\n",
    "\n",
    "Here's a Python code snippet that demonstrates how to do this using NumPy:"
   ]
  },
  {
   "cell_type": "code",
   "execution_count": 1,
   "metadata": {},
   "outputs": [
    {
     "name": "stdout",
     "output_type": "stream",
     "text": [
      "95% Confidence Interval: (14.43, 15.54) meters\n"
     ]
    }
   ],
   "source": [
    "\n",
    "import numpy as np\n",
    "\n",
    "# Your original sample\n",
    "sample_mean = 15\n",
    "sample_std = 2\n",
    "sample_size = 50\n",
    "\n",
    "# Number of bootstrap iterations\n",
    "num_iterations = 10000\n",
    "\n",
    "# Create an array to store bootstrap sample means\n",
    "bootstrap_means = np.zeros(num_iterations)\n",
    "\n",
    "# Perform bootstrap resampling\n",
    "for i in range(num_iterations):\n",
    "    # Create a resampled dataset by randomly selecting data with replacement\n",
    "    resampled_data = np.random.normal(sample_mean, sample_std, sample_size)\n",
    "    # Calculate the mean of the resampled dataset\n",
    "    bootstrap_means[i] = np.mean(resampled_data)\n",
    "\n",
    "# Calculate the 95% confidence interval\n",
    "lower_bound = np.percentile(bootstrap_means, 2.5)\n",
    "upper_bound = np.percentile(bootstrap_means, 97.5)\n",
    "\n",
    "print(f\"95% Confidence Interval: ({lower_bound:.2f}, {upper_bound:.2f}) meters\")"
   ]
  },
  {
   "cell_type": "code",
   "execution_count": null,
   "metadata": {},
   "outputs": [],
   "source": []
  }
 ],
 "metadata": {
  "kernelspec": {
   "display_name": "base",
   "language": "python",
   "name": "python3"
  },
  "language_info": {
   "codemirror_mode": {
    "name": "ipython",
    "version": 3
   },
   "file_extension": ".py",
   "mimetype": "text/x-python",
   "name": "python",
   "nbconvert_exporter": "python",
   "pygments_lexer": "ipython3",
   "version": "3.9.13"
  }
 },
 "nbformat": 4,
 "nbformat_minor": 2
}
